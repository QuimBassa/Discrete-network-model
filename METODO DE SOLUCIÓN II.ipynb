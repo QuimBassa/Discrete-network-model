{
 "cells": [
  {
   "cell_type": "markdown",
   "metadata": {},
   "source": [
    "<h1><center>MÉTODO DE SOLUCIÓN II</center></h1>\n",
    "\n",
    "RESUMEN:<br>\n",
    "&ensp;1.Suposiciones sobre la demanda<br>\n",
    "&ensp;2.Solución primera semana<br>\n",
    "&ensp;3.Solución segunda semana<br>\n",
    "&ensp;4.Solución tercera semana<br>\n",
    "&ensp;5.Solución cuarta semana<br>\n"
   ]
  },
  {
   "cell_type": "markdown",
   "metadata": {},
   "source": [
    "En este Script se expone el método de solución para el modelo de VRP  con flota heterogenea de camiones. En este caso se utilizado utilizado el paquete VRPy para ejecutar la resolución del problema.\n",
    "\n",
    "https://vrpy.readthedocs.io/en/dev/index.html#"
   ]
  },
  {
   "cell_type": "markdown",
   "metadata": {},
   "source": [
    "## 1. Suposiciones sobre la demanda"
   ]
  },
  {
   "cell_type": "markdown",
   "metadata": {},
   "source": [
    "Asumimos el mismo escenario que en el script \"Método de Solución I\"."
   ]
  },
  {
   "cell_type": "code",
   "execution_count": 1,
   "metadata": {},
   "outputs": [],
   "source": [
    "import numpy as np\n",
    "Demanda_Total_Anual= 2531\n",
    "mes=12"
   ]
  },
  {
   "cell_type": "code",
   "execution_count": 2,
   "metadata": {},
   "outputs": [
    {
     "data": {
      "text/plain": [
       "211"
      ]
     },
     "execution_count": 2,
     "metadata": {},
     "output_type": "execute_result"
    }
   ],
   "source": [
    "#Asumimos que la demanda anual se distribuye linealmente para cada mes del año.\n",
    "Demanda_month=round(Demanda_Total_Anual/mes)\n",
    "Demanda_month"
   ]
  },
  {
   "cell_type": "code",
   "execution_count": 3,
   "metadata": {},
   "outputs": [
    {
     "data": {
      "text/plain": [
       "[1, 2, 3, 4, 5, 6, 7, 8, 9, 10]"
      ]
     },
     "execution_count": 3,
     "metadata": {},
     "output_type": "execute_result"
    }
   ],
   "source": [
    "#Genero el conjunto de nodos a los cuales debemos ofrecer servicios\n",
    "n=10\n",
    "puntos_verdes=[x for x in range(1,n+1)]\n",
    "puntos_verdes"
   ]
  },
  {
   "cell_type": "code",
   "execution_count": 4,
   "metadata": {},
   "outputs": [
    {
     "data": {
      "text/plain": [
       "[56, 53, 62, 40]"
      ]
     },
     "execution_count": 4,
     "metadata": {},
     "output_type": "execute_result"
    }
   ],
   "source": [
    "#Asumimos que la demanda mensual se distrybuye aleatoriamente entre las 4 semanas de cada mes.\n",
    "rnd = np.random\n",
    "rnd.seed(0)\n",
    "Demanda_weeks=np.random.multinomial(Demanda_month, np.ones(4)/4, size=1)[0].tolist()\n",
    "Demanda_weeks"
   ]
  },
  {
   "cell_type": "code",
   "execution_count": 5,
   "metadata": {},
   "outputs": [],
   "source": [
    "#Creo una función para asignar una demanda aleatoria  en cada punto verde.\n",
    "rnd = np.random\n",
    "rnd.seed(0)\n",
    "def get_nodos_demand(semana):\n",
    "    n=10\n",
    "    key=puntos_verdes\n",
    "    values=np.random.multinomial(semana, np.ones(n)/n, size=1)[0].tolist()\n",
    "    r=dict(zip(key,values))\n",
    "    return r"
   ]
  },
  {
   "cell_type": "code",
   "execution_count": 6,
   "metadata": {},
   "outputs": [
    {
     "data": {
      "text/plain": [
       "({1: 6, 2: 7, 3: 6, 4: 5, 5: 5, 6: 6, 7: 5, 8: 8, 9: 6, 10: 2}, 56)"
      ]
     },
     "execution_count": 6,
     "metadata": {},
     "output_type": "execute_result"
    }
   ],
   "source": [
    "# Semana 1\n",
    "week1=get_nodos_demand(Demanda_weeks[0])\n",
    "week1, sum(week1.values())"
   ]
  },
  {
   "cell_type": "code",
   "execution_count": 7,
   "metadata": {},
   "outputs": [
    {
     "data": {
      "text/plain": [
       "({1: 5, 2: 7, 3: 5, 4: 5, 5: 8, 6: 2, 7: 3, 8: 2, 9: 10, 10: 6}, 53)"
      ]
     },
     "execution_count": 7,
     "metadata": {},
     "output_type": "execute_result"
    }
   ],
   "source": [
    "# Semana 2\n",
    "week2=get_nodos_demand(Demanda_weeks[1])\n",
    "week2, sum(week2.values())"
   ]
  },
  {
   "cell_type": "code",
   "execution_count": 8,
   "metadata": {},
   "outputs": [
    {
     "data": {
      "text/plain": [
       "({1: 8, 2: 9, 3: 10, 4: 7, 5: 4, 6: 6, 7: 2, 8: 6, 9: 3, 10: 7}, 62)"
      ]
     },
     "execution_count": 8,
     "metadata": {},
     "output_type": "execute_result"
    }
   ],
   "source": [
    "# Semana 3\n",
    "week3=get_nodos_demand(Demanda_weeks[2])\n",
    "week3, sum(week3.values())"
   ]
  },
  {
   "cell_type": "code",
   "execution_count": 9,
   "metadata": {},
   "outputs": [
    {
     "data": {
      "text/plain": [
       "({1: 7, 2: 4, 3: 3, 4: 3, 5: 5, 6: 3, 7: 4, 8: 1, 9: 5, 10: 5}, 40)"
      ]
     },
     "execution_count": 9,
     "metadata": {},
     "output_type": "execute_result"
    }
   ],
   "source": [
    "# Semana 4\n",
    "week4=get_nodos_demand(Demanda_weeks[3])\n",
    "week4, sum(week4.values())"
   ]
  },
  {
   "cell_type": "code",
   "execution_count": 10,
   "metadata": {},
   "outputs": [
    {
     "data": {
      "text/plain": [
       "{1: {1: 6, 2: 7, 3: 6, 4: 5, 5: 5, 6: 6, 7: 5, 8: 8, 9: 6, 10: 2},\n",
       " 2: {1: 5, 2: 7, 3: 5, 4: 5, 5: 8, 6: 2, 7: 3, 8: 2, 9: 10, 10: 6},\n",
       " 3: {1: 8, 2: 9, 3: 10, 4: 7, 5: 4, 6: 6, 7: 2, 8: 6, 9: 3, 10: 7},\n",
       " 4: {1: 7, 2: 4, 3: 3, 4: 3, 5: 5, 6: 3, 7: 4, 8: 1, 9: 5, 10: 5}}"
      ]
     },
     "execution_count": 10,
     "metadata": {},
     "output_type": "execute_result"
    }
   ],
   "source": [
    "week_demand_puntoverde={1:week1,2:week2,3:week3,4:week4}\n",
    "week_demand_puntoverde"
   ]
  },
  {
   "cell_type": "code",
   "execution_count": 11,
   "metadata": {},
   "outputs": [
    {
     "data": {
      "text/plain": [
       "[0, 1, 2, 3, 4, 5, 6, 7, 8, 9, 10]"
      ]
     },
     "execution_count": 11,
     "metadata": {},
     "output_type": "execute_result"
    }
   ],
   "source": [
    "#Genero el conjunto Vertices = Puntos verdes + Deposito común\n",
    "vertices=[0]+puntos_verdes\n",
    "vertices"
   ]
  },
  {
   "cell_type": "code",
   "execution_count": 12,
   "metadata": {},
   "outputs": [],
   "source": [
    "#Creo unas coordenadas aleatorias para todos los vertices\n",
    "rnd = np.random\n",
    "rnd.seed(0)\n",
    "loc_x=rnd.rand(len(vertices))*100\n",
    "loc_y=rnd.rand(len(vertices))*100"
   ]
  },
  {
   "cell_type": "code",
   "execution_count": 13,
   "metadata": {},
   "outputs": [
    {
     "data": {
      "image/png": "[encoded data removed]",
      "text/plain": [
       "<Figure size 576x432 with 1 Axes>"
      ]
     },
     "metadata": {},
     "output_type": "display_data"
    },
    {
     "data": {
      "image/png": "[encoded data removed]",
      "text/plain": [
       "<Figure size 576x432 with 1 Axes>"
      ]
     },
     "metadata": {},
     "output_type": "display_data"
    },
    {
     "data": {
      "image/png": "[encoded data removed]",
      "text/plain": [
       "<Figure size 576x432 with 1 Axes>"
      ]
     },
     "metadata": {},
     "output_type": "display_data"
    },
    {
     "data": {
      "image/png": "[encoded data removed]",
      "text/plain": [
       "<Figure size 576x432 with 1 Axes>"
      ]
     },
     "metadata": {},
     "output_type": "display_data"
    }
   ],
   "source": [
    "import matplotlib.pyplot as plt\n",
    "\n",
    "for t,w in week_demand_puntoverde.items():\n",
    "    plt.figure(figsize=(8,6))\n",
    "    plt.scatter(loc_x[1:],loc_y[1:],color=\"green\")\n",
    "    plt.xticks([])\n",
    "    plt.yticks([])\n",
    "    plt.title(\"Semana %d   Demanda semanal=%d\" %(t,sum(w.values())))\n",
    "    for i in puntos_verdes:\n",
    "        plt.annotate('$N_{%d}=%d$' % (i,w[i]),(loc_x[i]+0.5,loc_y[i]))\n",
    "    #Expongo el deposito comun\n",
    "    plt.plot(loc_x[0], loc_y[0], c='r', marker='s')\n",
    "    plt.annotate('DC',(loc_x[0]-2,loc_y[0]+2))"
   ]
  },
  {
   "cell_type": "markdown",
   "metadata": {},
   "source": [
    "## 2. Solución primera semana"
   ]
  },
  {
   "cell_type": "code",
   "execution_count": 14,
   "metadata": {},
   "outputs": [
    {
     "data": {
      "text/plain": [
       "{1: 6, 2: 7, 3: 6, 4: 5, 5: 5, 6: 6, 7: 5, 8: 8, 9: 6, 10: 2}"
      ]
     },
     "execution_count": 14,
     "metadata": {},
     "output_type": "execute_result"
    }
   ],
   "source": [
    "week1"
   ]
  },
  {
   "cell_type": "code",
   "execution_count": 1,
   "metadata": {},
   "outputs": [],
   "source": [
    "# Definición de la red\n",
    "\n",
    "from networkx import DiGraph\n",
    "\n",
    "G = DiGraph()\n",
    "\n",
    "G.add_edge(\"Source\", 1, cost=[17,21])\n",
    "G.add_edge(\"Source\", 2, cost=[40,48])   \n",
    "G.add_edge(\"Source\", 3, cost=[46,55])\n",
    "G.add_edge(\"Source\", 4, cost=[46,55])\n",
    "G.add_edge(\"Source\", 5, cost=[52,62])\n",
    "G.add_edge(\"Source\", 6, cost=[32,39])\n",
    "G.add_edge(\"Source\", 7, cost=[42,51])\n",
    "G.add_edge(\"Source\", 8, cost=[54,64])\n",
    "G.add_edge(\"Source\", 9, cost=[48,57])\n",
    "G.add_edge(\"Source\", 10, cost=[36,44]) \n",
    "\n",
    "\n",
    "G.add_edge(1, \"Sink\", cost=[17,21])\n",
    "G.add_edge(2, \"Sink\", cost=[40,48])\n",
    "G.add_edge(3, \"Sink\", cost=[46,55])\n",
    "G.add_edge(4, \"Sink\", cost=[46,55])\n",
    "G.add_edge(5, \"Sink\", cost=[52,62])\n",
    "G.add_edge(6, \"Sink\", cost=[32,39])\n",
    "G.add_edge(7, \"Sink\", cost=[42,51])\n",
    "G.add_edge(8, \"Sink\", cost=[54,64])\n",
    "G.add_edge(9, \"Sink\", cost=[48,57])\n",
    "G.add_edge(10, \"Sink\", cost=[36,44])\n",
    "\n",
    "\n",
    "\n",
    "G.add_edge(1, 2, cost=[37,45])\n",
    "G.add_edge(1, 3, cost=[53,63])\n",
    "G.add_edge(1, 4, cost=[56,67])\n",
    "G.add_edge(1, 5, cost=[55,66])\n",
    "G.add_edge(1, 6, cost=[38,46])\n",
    "G.add_edge(1, 7, cost=[27,33])\n",
    "G.add_edge(1, 8, cost=[39,47])\n",
    "G.add_edge(1, 9, cost=[53,63])\n",
    "G.add_edge(1, 10, cost=[24,29])\n",
    "\n",
    "\n",
    "G.add_edge(2, 1, cost=[37,45])\n",
    "G.add_edge(2, 3, cost=[86,103])\n",
    "G.add_edge(2, 4, cost=[86,103])\n",
    "G.add_edge(2, 5, cost=[91,109])\n",
    "G.add_edge(2, 6, cost=[19,23])\n",
    "G.add_edge(2, 7, cost=[32,39])\n",
    "G.add_edge(2, 8, cost=[37,44])\n",
    "G.add_edge(2, 9, cost=[23,27])\n",
    "G.add_edge(2, 10, cost=[23,27])\n",
    "\n",
    "\n",
    "G.add_edge(3, 1, cost=[53,63])\n",
    "G.add_edge(3, 2, cost=[86,103])\n",
    "G.add_edge(3, 4, cost=[12,15])\n",
    "G.add_edge(3, 5, cost=[11,14])\n",
    "G.add_edge(3, 6, cost=[77,92])\n",
    "G.add_edge(3, 7, cost=[79,95])\n",
    "G.add_edge(3, 8, cost=[90,108])\n",
    "G.add_edge(3, 9, cost=[92,111])\n",
    "G.add_edge(3, 10, cost=[77,92])\n",
    "\n",
    "\n",
    "\n",
    "G.add_edge(4, 1, cost=[56,67])\n",
    "G.add_edge(4, 2, cost=[86,103])\n",
    "G.add_edge(4, 3, cost=[12,15])\n",
    "G.add_edge(4, 5, cost=[23,28])\n",
    "G.add_edge(4, 6, cost=[75,89])\n",
    "G.add_edge(4, 7, cost=[83,100])\n",
    "G.add_edge(4, 8, cost=[95,114])\n",
    "G.add_edge(4, 9, cost=[89,107])\n",
    "G.add_edge(4, 10, cost=[80,96])\n",
    "\n",
    "G.add_edge(5, 1, cost=[55,66])\n",
    "G.add_edge(5, 2, cost=[91,109])\n",
    "G.add_edge(5, 3, cost=[11,14])\n",
    "G.add_edge(5, 4, cost=[23,28])\n",
    "G.add_edge(5, 6, cost=[84,101])\n",
    "G.add_edge(5, 7, cost=[80,96])\n",
    "G.add_edge(5, 8, cost=[91,109]) \n",
    "G.add_edge(5, 9, cost=[99,119])\n",
    "G.add_edge(5, 10, cost=[79,95])\n",
    "\n",
    "G.add_edge(6, 1, cost=[38,46])\n",
    "G.add_edge(6, 2, cost=[19,23])\n",
    "G.add_edge(6, 3, cost=[77,92])\n",
    "G.add_edge(6, 4, cost=[75,89])\n",
    "G.add_edge(6, 5, cost=[84,101])\n",
    "G.add_edge(6, 7, cost=[46,55])\n",
    "G.add_edge(6, 8, cost=[53,63])\n",
    "G.add_edge(6, 9, cost=[16,19])\n",
    "G.add_edge(6, 10, cost=[36,43])\n",
    "\n",
    "G.add_edge(7, 1, cost=[27,33])\n",
    "G.add_edge(7, 2, cost=[32,39])\n",
    "G.add_edge(7, 3, cost=[79,95])\n",
    "G.add_edge(7, 4, cost=[83,100])\n",
    "G.add_edge(7, 5, cost=[80,96])\n",
    "G.add_edge(7, 6, cost=[46,55])\n",
    "G.add_edge(7, 8, cost=[12,14])\n",
    "G.add_edge(7, 9, cost=[55,66])\n",
    "G.add_edge(7, 10, cost=[10,12])\n",
    "\n",
    "\n",
    "G.add_edge(8, 1, cost=[39,47])\n",
    "G.add_edge(8, 2, cost=[37,44])\n",
    "G.add_edge(8, 3, cost=[90,108])\n",
    "G.add_edge(8, 4, cost=[95,114])\n",
    "G.add_edge(8, 5, cost=[91,109])\n",
    "G.add_edge(8, 6, cost=[53,63])\n",
    "G.add_edge(8, 7, cost=[12,14])\n",
    "G.add_edge(8, 9, cost=[59,71])\n",
    "G.add_edge(8, 10, cost=[19,22])\n",
    "\n",
    "G.add_edge(9, 1, cost=[53,63])\n",
    "G.add_edge(9, 2, cost=[23,27])\n",
    "G.add_edge(9, 3, cost=[92,111])\n",
    "G.add_edge(9, 4, cost=[89,107])\n",
    "G.add_edge(9, 5, cost=[99,119])\n",
    "G.add_edge(9, 6, cost=[16,19])\n",
    "G.add_edge(9, 7, cost=[55,66])\n",
    "G.add_edge(9, 8, cost=[59,71])\n",
    "G.add_edge(9, 10, cost=[45,54])\n",
    "\n",
    "G.add_edge(10, 1, cost=[24,29])\n",
    "G.add_edge(10, 2, cost=[23,27])\n",
    "G.add_edge(10, 3, cost=[77,92])\n",
    "G.add_edge(10, 4, cost=[80,96])\n",
    "G.add_edge(10, 5, cost=[79,95])\n",
    "G.add_edge(10, 6, cost=[36,43])\n",
    "G.add_edge(10, 7, cost=[10,12])\n",
    "G.add_edge(10, 8, cost=[19,22]) \n",
    "G.add_edge(10, 9, cost=[45,54])\n",
    "\n",
    "\n",
    "G.nodes[1][\"demand\"] = 6\n",
    "G.nodes[2][\"demand\"] = 7\n",
    "G.nodes[3][\"demand\"] = 6\n",
    "G.nodes[4][\"demand\"] = 5\n",
    "G.nodes[5][\"demand\"] = 5\n",
    "G.nodes[6][\"demand\"] = 6\n",
    "G.nodes[7][\"demand\"] = 5\n",
    "G.nodes[8][\"demand\"] = 8\n",
    "G.nodes[9][\"demand\"] = 6\n",
    "G.nodes[10][\"demand\"] = 2\n",
    "\n",
    "\n",
    "\n",
    " \n"
   ]
  },
  {
   "cell_type": "code",
   "execution_count": 2,
   "metadata": {},
   "outputs": [
    {
     "name": "stderr",
     "output_type": "stream",
     "text": [
      "INFO:vrpy.vrp:new upper bound : max num stops = 5\n",
      "INFO:vrpy.vrp:iteration 0, 3826.0\n",
      "INFO:vrpy.vrp:iteration 1, 3451.0\n",
      "INFO:vrpy.vrp:iteration 2, 3080.0\n",
      "INFO:vrpy.vrp:iteration 3, 3080.0\n",
      "INFO:vrpy.vrp:iteration 4, 3080.0\n",
      "INFO:vrpy.vrp:iteration 5, 2958.0\n",
      "INFO:vrpy.vrp:iteration 6, 2958.0\n",
      "INFO:vrpy.vrp:iteration 7, 2813.0\n",
      "INFO:vrpy.vrp:iteration 8, 2813.0\n",
      "INFO:vrpy.vrp:iteration 9, 2746.5\n",
      "INFO:vrpy.vrp:iteration 10, 2746.5\n",
      "INFO:vrpy.vrp:iteration 11, 2659.5\n",
      "INFO:vrpy.vrp:iteration 12, 2659.5\n",
      "INFO:vrpy.vrp:iteration 13, 2659.5\n",
      "INFO:vrpy.vrp:iteration 14, 2659.5\n",
      "INFO:vrpy.vrp:iteration 15, 2619.5\n",
      "INFO:vrpy.vrp:iteration 16, 2619.5\n",
      "INFO:vrpy.vrp:iteration 17, 2618.3\n",
      "INFO:vrpy.vrp:iteration 18, 2617.7\n",
      "INFO:vrpy.master_solve_pulp:total cost = 2686.0\n"
     ]
    },
    {
     "name": "stdout",
     "output_type": "stream",
     "text": [
      "Wall time: 6.16 s\n"
     ]
    }
   ],
   "source": [
    "from vrpy import VehicleRoutingProblem\n",
    "prob = VehicleRoutingProblem(G, mixed_fleet=True,fixed_cost=[300,500],load_capacity=[10,15])\n",
    "%time prob.solve()"
   ]
  },
  {
   "cell_type": "code",
   "execution_count": 17,
   "metadata": {},
   "outputs": [
    {
     "data": {
      "text/plain": [
       "2686"
      ]
     },
     "execution_count": 17,
     "metadata": {},
     "output_type": "execute_result"
    }
   ],
   "source": [
    "# Coste total de la operación\n",
    "prob.best_value"
   ]
  },
  {
   "cell_type": "code",
   "execution_count": 18,
   "metadata": {},
   "outputs": [
    {
     "data": {
      "text/plain": [
       "{1: 380, 2: 421, 3: 615, 4: 639, 5: 631}"
      ]
     },
     "execution_count": 18,
     "metadata": {},
     "output_type": "execute_result"
    }
   ],
   "source": [
    "#Coste de cada ruta\n",
    "prob.best_routes_cost"
   ]
  },
  {
   "cell_type": "code",
   "execution_count": 19,
   "metadata": {},
   "outputs": [
    {
     "data": {
      "text/plain": [
       "{1: 7, 2: 10, 3: 12, 4: 12, 5: 15}"
      ]
     },
     "execution_count": 19,
     "metadata": {},
     "output_type": "execute_result"
    }
   ],
   "source": [
    "# Material recogido en cada ruta\n",
    "prob.best_routes_load"
   ]
  },
  {
   "cell_type": "code",
   "execution_count": 20,
   "metadata": {},
   "outputs": [
    {
     "data": {
      "text/plain": [
       "{1: 0, 2: 0, 3: 1, 4: 1, 5: 1}"
      ]
     },
     "execution_count": 20,
     "metadata": {},
     "output_type": "execute_result"
    }
   ],
   "source": [
    "prob.best_routes_type"
   ]
  },
  {
   "cell_type": "code",
   "execution_count": 21,
   "metadata": {},
   "outputs": [
    {
     "data": {
      "text/plain": [
       "{1: ['Source', 2, 'Sink'],\n",
       " 2: ['Source', 5, 4, 'Sink'],\n",
       " 3: ['Source', 9, 6, 'Sink'],\n",
       " 4: ['Source', 3, 1, 'Sink'],\n",
       " 5: ['Source', 10, 8, 7, 'Sink']}"
      ]
     },
     "execution_count": 21,
     "metadata": {},
     "output_type": "execute_result"
    }
   ],
   "source": [
    "#Rutas optimas\n",
    "prob.best_routes"
   ]
  },
  {
   "cell_type": "code",
   "execution_count": 22,
   "metadata": {},
   "outputs": [],
   "source": [
    "arcos_activos1=[(0,2),(2,0),(0,5),(5,4),(4,0),(0,6),(6,9),(9,6),(0,10),(10,8),(8,7),(7,0),(0,3),(3,1),(1,0)]"
   ]
  },
  {
   "cell_type": "code",
   "execution_count": 23,
   "metadata": {
    "scrolled": true
   },
   "outputs": [
    {
     "data": {
      "text/plain": [
       "<function matplotlib.pyplot.show(close=None, block=None)>"
      ]
     },
     "execution_count": 23,
     "metadata": {},
     "output_type": "execute_result"
    },
    {
     "data": {
      "image/png": "[encoded data removed]",
      "text/plain": [
       "<Figure size 432x288 with 1 Axes>"
      ]
     },
     "metadata": {},
     "output_type": "display_data"
    }
   ],
   "source": [
    "#Representación de la solución\n",
    "plt.figure(figsize=(6,4))\n",
    "plt.scatter(loc_x[1:],loc_y[1:],color=\"green\")\n",
    "plt.xticks([])\n",
    "plt.yticks([])\n",
    "plt.title(\"Semana 1:  CamionesQ10=2  CamionesQ15=3  Coste=%d\" %(prob.best_value))\n",
    "for i in puntos_verdes:\n",
    "    plt.annotate('$N_{%d}=%d$' % (i,week1[i]),(loc_x[i]+0.5,loc_y[i]))\n",
    "for i,j in arcos_activos1:\n",
    "    plt.plot([loc_x[i],loc_x[j]],[loc_y[i],loc_y[j]],color=\"blue\",alpha=0.7)\n",
    "plt.plot(loc_x[0], loc_y[0], c='r', marker='s')\n",
    "plt.annotate('DC',(loc_x[0]-2,loc_y[0]+2))\n",
    "plt.show"
   ]
  },
  {
   "cell_type": "markdown",
   "metadata": {},
   "source": [
    "## 3. Solución segunda semana"
   ]
  },
  {
   "cell_type": "code",
   "execution_count": 24,
   "metadata": {},
   "outputs": [
    {
     "data": {
      "text/plain": [
       "{1: 5, 2: 7, 3: 5, 4: 5, 5: 8, 6: 2, 7: 3, 8: 2, 9: 10, 10: 6}"
      ]
     },
     "execution_count": 24,
     "metadata": {},
     "output_type": "execute_result"
    }
   ],
   "source": [
    "week2"
   ]
  },
  {
   "cell_type": "code",
   "execution_count": 25,
   "metadata": {},
   "outputs": [],
   "source": [
    "# Definición de la red\n",
    "\n",
    "from networkx import DiGraph\n",
    "\n",
    "G2 = DiGraph()\n",
    "\n",
    "G2.add_edge(\"Source\", 1, cost=[17,21])\n",
    "G2.add_edge(\"Source\", 2, cost=[40,48])   \n",
    "G2.add_edge(\"Source\", 3, cost=[46,55])\n",
    "G2.add_edge(\"Source\", 4, cost=[46,55])\n",
    "G2.add_edge(\"Source\", 5, cost=[52,62])\n",
    "G2.add_edge(\"Source\", 6, cost=[32,39])\n",
    "G2.add_edge(\"Source\", 7, cost=[42,51])\n",
    "G2.add_edge(\"Source\", 8, cost=[54,64])\n",
    "G2.add_edge(\"Source\", 9, cost=[48,57])\n",
    "G2.add_edge(\"Source\", 10, cost=[36,44]) \n",
    "\n",
    "\n",
    "G2.add_edge(1, \"Sink\", cost=[17,21])\n",
    "G2.add_edge(2, \"Sink\", cost=[40,48])\n",
    "G2.add_edge(3, \"Sink\", cost=[46,55])\n",
    "G2.add_edge(4, \"Sink\", cost=[46,55])\n",
    "G2.add_edge(5, \"Sink\", cost=[52,62])\n",
    "G2.add_edge(6, \"Sink\", cost=[32,39])\n",
    "G2.add_edge(7, \"Sink\", cost=[42,51])\n",
    "G2.add_edge(8, \"Sink\", cost=[54,64])\n",
    "G2.add_edge(9, \"Sink\", cost=[48,57])\n",
    "G2.add_edge(10, \"Sink\", cost=[36,44])\n",
    "\n",
    "\n",
    "\n",
    "G2.add_edge(1, 2, cost=[37,45])\n",
    "G2.add_edge(1, 3, cost=[53,63])\n",
    "G2.add_edge(1, 4, cost=[56,67])\n",
    "G2.add_edge(1, 5, cost=[55,66])\n",
    "G2.add_edge(1, 6, cost=[38,46])\n",
    "G2.add_edge(1, 7, cost=[27,33])\n",
    "G2.add_edge(1, 8, cost=[39,47])\n",
    "G2.add_edge(1, 9, cost=[53,63])\n",
    "G2.add_edge(1, 10, cost=[24,29])\n",
    "\n",
    "\n",
    "G2.add_edge(2, 1, cost=[37,45])\n",
    "G2.add_edge(2, 3, cost=[86,103])\n",
    "G2.add_edge(2, 4, cost=[86,103])\n",
    "G2.add_edge(2, 5, cost=[91,109])\n",
    "G2.add_edge(2, 6, cost=[19,23])\n",
    "G2.add_edge(2, 7, cost=[32,39])\n",
    "G2.add_edge(2, 8, cost=[37,44])\n",
    "G2.add_edge(2, 9, cost=[23,27])\n",
    "G2.add_edge(2, 10, cost=[23,27])\n",
    "\n",
    "\n",
    "G2.add_edge(3, 1, cost=[53,63])\n",
    "G2.add_edge(3, 2, cost=[86,103])\n",
    "G2.add_edge(3, 4, cost=[12,15])\n",
    "G2.add_edge(3, 5, cost=[11,14])\n",
    "G2.add_edge(3, 6, cost=[77,92])\n",
    "G2.add_edge(3, 7, cost=[79,95])\n",
    "G2.add_edge(3, 8, cost=[90,108])\n",
    "G2.add_edge(3, 9, cost=[92,111])\n",
    "G2.add_edge(3, 10, cost=[77,92])\n",
    "\n",
    "\n",
    "\n",
    "G2.add_edge(4, 1, cost=[56,67])\n",
    "G2.add_edge(4, 2, cost=[86,103])\n",
    "G2.add_edge(4, 3, cost=[12,15])\n",
    "G2.add_edge(4, 5, cost=[23,28])\n",
    "G2.add_edge(4, 6, cost=[75,89])\n",
    "G2.add_edge(4, 7, cost=[83,100])\n",
    "G2.add_edge(4, 8, cost=[95,114])\n",
    "G2.add_edge(4, 9, cost=[89,107])\n",
    "G2.add_edge(4, 10, cost=[80,96])\n",
    "\n",
    "G2.add_edge(5, 1, cost=[55,66])\n",
    "G2.add_edge(5, 2, cost=[91,109])\n",
    "G2.add_edge(5, 3, cost=[11,14])\n",
    "G2.add_edge(5, 4, cost=[23,28])\n",
    "G2.add_edge(5, 6, cost=[84,101])\n",
    "G2.add_edge(5, 7, cost=[80,96])\n",
    "G2.add_edge(5, 8, cost=[91,109]) \n",
    "G2.add_edge(5, 9, cost=[99,119])\n",
    "G2.add_edge(5, 10, cost=[79,95])\n",
    "\n",
    "G2.add_edge(6, 1, cost=[38,46])\n",
    "G2.add_edge(6, 2, cost=[19,23])\n",
    "G2.add_edge(6, 3, cost=[77,92])\n",
    "G2.add_edge(6, 4, cost=[75,89])\n",
    "G2.add_edge(6, 5, cost=[84,101])\n",
    "G2.add_edge(6, 7, cost=[46,55])\n",
    "G2.add_edge(6, 8, cost=[53,63])\n",
    "G2.add_edge(6, 9, cost=[16,19])\n",
    "G2.add_edge(6, 10, cost=[36,43])\n",
    "\n",
    "G2.add_edge(7, 1, cost=[27,33])\n",
    "G2.add_edge(7, 2, cost=[32,39])\n",
    "G2.add_edge(7, 3, cost=[79,95])\n",
    "G2.add_edge(7, 4, cost=[83,100])\n",
    "G2.add_edge(7, 5, cost=[80,96])\n",
    "G2.add_edge(7, 6, cost=[46,55])\n",
    "G2.add_edge(7, 8, cost=[12,14])\n",
    "G2.add_edge(7, 9, cost=[55,66])\n",
    "G2.add_edge(7, 10, cost=[10,12])\n",
    "\n",
    "\n",
    "G2.add_edge(8, 1, cost=[39,47])\n",
    "G2.add_edge(8, 2, cost=[37,44])\n",
    "G2.add_edge(8, 3, cost=[90,108])\n",
    "G2.add_edge(8, 4, cost=[95,114])\n",
    "G2.add_edge(8, 5, cost=[91,109])\n",
    "G2.add_edge(8, 6, cost=[53,63])\n",
    "G2.add_edge(8, 7, cost=[12,14])\n",
    "G2.add_edge(8, 9, cost=[59,71])\n",
    "G2.add_edge(8, 10, cost=[19,22])\n",
    "\n",
    "G2.add_edge(9, 1, cost=[53,63])\n",
    "G2.add_edge(9, 2, cost=[23,27])\n",
    "G2.add_edge(9, 3, cost=[92,111])\n",
    "G2.add_edge(9, 4, cost=[89,107])\n",
    "G2.add_edge(9, 5, cost=[99,119])\n",
    "G2.add_edge(9, 6, cost=[16,19])\n",
    "G2.add_edge(9, 7, cost=[55,66])\n",
    "G2.add_edge(9, 8, cost=[59,71])\n",
    "G2.add_edge(9, 10, cost=[45,54])\n",
    "\n",
    "G2.add_edge(10, 1, cost=[24,29])\n",
    "G2.add_edge(10, 2, cost=[23,27])\n",
    "G2.add_edge(10, 3, cost=[77,92])\n",
    "G2.add_edge(10, 4, cost=[80,96])\n",
    "G2.add_edge(10, 5, cost=[79,95])\n",
    "G2.add_edge(10, 6, cost=[36,43])\n",
    "G2.add_edge(10, 7, cost=[10,12])\n",
    "G2.add_edge(10, 8, cost=[19,22]) \n",
    "G2.add_edge(10, 9, cost=[45,54])\n",
    "\n",
    "\n",
    "G2.nodes[1][\"demand\"] = 5\n",
    "G2.nodes[2][\"demand\"] = 7\n",
    "G2.nodes[3][\"demand\"] = 5\n",
    "G2.nodes[4][\"demand\"] = 5\n",
    "G2.nodes[5][\"demand\"] = 8\n",
    "G2.nodes[6][\"demand\"] = 2\n",
    "G2.nodes[7][\"demand\"] = 3\n",
    "G2.nodes[8][\"demand\"] = 2\n",
    "G2.nodes[9][\"demand\"] = 10\n",
    "G2.nodes[10][\"demand\"] = 6"
   ]
  },
  {
   "cell_type": "code",
   "execution_count": 26,
   "metadata": {},
   "outputs": [
    {
     "name": "stderr",
     "output_type": "stream",
     "text": [
      "INFO:vrpy.vrp:new upper bound : max num stops = 6\n",
      "INFO:vrpy.vrp:iteration 0, 3826.0\n",
      "INFO:vrpy.vrp:iteration 1, 3109.0\n",
      "INFO:vrpy.vrp:iteration 2, 2729.0\n",
      "INFO:vrpy.vrp:iteration 3, 2729.0\n",
      "INFO:vrpy.vrp:iteration 4, 2718.0\n",
      "INFO:vrpy.vrp:iteration 5, 2541.5\n",
      "INFO:vrpy.vrp:iteration 6, 2365.5\n",
      "INFO:vrpy.vrp:iteration 7, 2365.5\n",
      "INFO:vrpy.vrp:iteration 8, 2365.5\n",
      "INFO:vrpy.vrp:iteration 9, 2306.2\n",
      "INFO:vrpy.vrp:iteration 10, 2293.9\n",
      "INFO:vrpy.vrp:iteration 11, 2273.5\n",
      "INFO:vrpy.vrp:iteration 12, 2273.5\n",
      "INFO:vrpy.vrp:iteration 13, 2273.5\n",
      "INFO:vrpy.vrp:iteration 14, 2254.3\n",
      "INFO:vrpy.vrp:iteration 15, 2247.0\n",
      "INFO:vrpy.master_solve_pulp:total cost = 2247.0\n"
     ]
    },
    {
     "name": "stdout",
     "output_type": "stream",
     "text": [
      "Wall time: 5.96 s\n"
     ]
    }
   ],
   "source": [
    "from vrpy import VehicleRoutingProblem\n",
    "prob2 = VehicleRoutingProblem(G2, mixed_fleet=True,fixed_cost=[300,500],load_capacity=[10,15])\n",
    "%time prob2.solve()"
   ]
  },
  {
   "cell_type": "code",
   "execution_count": 27,
   "metadata": {},
   "outputs": [
    {
     "data": {
      "text/plain": [
       "{1: ['Source', 5, 'Sink'],\n",
       " 2: ['Source', 9, 'Sink'],\n",
       " 3: ['Source', 4, 3, 'Sink'],\n",
       " 4: ['Source', 8, 7, 1, 'Sink'],\n",
       " 5: ['Source', 6, 2, 10, 'Sink']}"
      ]
     },
     "execution_count": 27,
     "metadata": {},
     "output_type": "execute_result"
    }
   ],
   "source": [
    "#Rutas optimas\n",
    "prob2.best_routes"
   ]
  },
  {
   "cell_type": "code",
   "execution_count": 28,
   "metadata": {},
   "outputs": [
    {
     "data": {
      "text/plain": [
       "{1: 404, 2: 396, 3: 404, 4: 410, 5: 633}"
      ]
     },
     "execution_count": 28,
     "metadata": {},
     "output_type": "execute_result"
    }
   ],
   "source": [
    "#Coste de cada ruta\n",
    "prob2.best_routes_cost"
   ]
  },
  {
   "cell_type": "code",
   "execution_count": 29,
   "metadata": {},
   "outputs": [
    {
     "data": {
      "text/plain": [
       "{1: 8, 2: 10, 3: 10, 4: 10, 5: 15}"
      ]
     },
     "execution_count": 29,
     "metadata": {},
     "output_type": "execute_result"
    }
   ],
   "source": [
    "# Material recogido en cada ruta\n",
    "prob2.best_routes_load"
   ]
  },
  {
   "cell_type": "code",
   "execution_count": 30,
   "metadata": {},
   "outputs": [],
   "source": [
    "arcos_activos2=[(0,5),(5,0),(0,9),(9,0),(0,4),(4,3),(3,0),(0,8),(8,7),(7,1),(1,0),(0,10),(10,2),(2,6),(6,0)]"
   ]
  },
  {
   "cell_type": "code",
   "execution_count": 31,
   "metadata": {},
   "outputs": [
    {
     "data": {
      "text/plain": [
       "<function matplotlib.pyplot.show(close=None, block=None)>"
      ]
     },
     "execution_count": 31,
     "metadata": {},
     "output_type": "execute_result"
    },
    {
     "data": {
      "image/png": "[encoded data removed]",
      "text/plain": [
       "<Figure size 432x288 with 1 Axes>"
      ]
     },
     "metadata": {},
     "output_type": "display_data"
    }
   ],
   "source": [
    "#Representación de la solución\n",
    "plt.figure(figsize=(6,4))\n",
    "plt.scatter(loc_x[1:],loc_y[1:],color=\"green\")\n",
    "plt.xticks([])\n",
    "plt.yticks([])\n",
    "plt.title(\"Semana 2:  CamionesQ10=4  CamionesQ15=1  Coste=%d\" %(prob2.best_value))\n",
    "for i in puntos_verdes:\n",
    "    plt.annotate('$N_{%d}=%d$' % (i,week2[i]),(loc_x[i]+0.5,loc_y[i]))\n",
    "for i,j in arcos_activos2:\n",
    "    plt.plot([loc_x[i],loc_x[j]],[loc_y[i],loc_y[j]],color=\"gold\",alpha=0.7)\n",
    "plt.plot(loc_x[0], loc_y[0], c='r', marker='s')\n",
    "plt.annotate('DC',(loc_x[0]-2,loc_y[0]+2))\n",
    "plt.show"
   ]
  },
  {
   "cell_type": "markdown",
   "metadata": {},
   "source": [
    "## 4. Solución tercera semana"
   ]
  },
  {
   "cell_type": "code",
   "execution_count": 32,
   "metadata": {},
   "outputs": [],
   "source": [
    "# Definición de la red\n",
    "\n",
    "from networkx import DiGraph\n",
    "\n",
    "G3 = DiGraph()\n",
    "\n",
    "G3.add_edge(\"Source\", 1, cost=[17,21])\n",
    "G3.add_edge(\"Source\", 2, cost=[40,48])   \n",
    "G3.add_edge(\"Source\", 3, cost=[46,55])\n",
    "G3.add_edge(\"Source\", 4, cost=[46,55])\n",
    "G3.add_edge(\"Source\", 5, cost=[52,62])\n",
    "G3.add_edge(\"Source\", 6, cost=[32,39])\n",
    "G3.add_edge(\"Source\", 7, cost=[42,51])\n",
    "G3.add_edge(\"Source\", 8, cost=[54,64])\n",
    "G3.add_edge(\"Source\", 9, cost=[48,57])\n",
    "G3.add_edge(\"Source\", 10, cost=[36,44]) \n",
    "\n",
    "\n",
    "G3.add_edge(1, \"Sink\", cost=[17,21])\n",
    "G3.add_edge(2, \"Sink\", cost=[40,48])\n",
    "G3.add_edge(3, \"Sink\", cost=[46,55])\n",
    "G3.add_edge(4, \"Sink\", cost=[46,55])\n",
    "G3.add_edge(5, \"Sink\", cost=[52,62])\n",
    "G3.add_edge(6, \"Sink\", cost=[32,39])\n",
    "G3.add_edge(7, \"Sink\", cost=[42,51])\n",
    "G3.add_edge(8, \"Sink\", cost=[54,64])\n",
    "G3.add_edge(9, \"Sink\", cost=[48,57])\n",
    "G3.add_edge(10, \"Sink\", cost=[36,44])\n",
    "\n",
    "\n",
    "\n",
    "G3.add_edge(1, 2, cost=[37,45])\n",
    "G3.add_edge(1, 3, cost=[53,63])\n",
    "G3.add_edge(1, 4, cost=[56,67])\n",
    "G3.add_edge(1, 5, cost=[55,66])\n",
    "G3.add_edge(1, 6, cost=[38,46])\n",
    "G3.add_edge(1, 7, cost=[27,33])\n",
    "G3.add_edge(1, 8, cost=[39,47])\n",
    "G3.add_edge(1, 9, cost=[53,63])\n",
    "G3.add_edge(1, 10, cost=[24,29])\n",
    "\n",
    "\n",
    "G3.add_edge(2, 1, cost=[37,45])\n",
    "G3.add_edge(2, 3, cost=[86,103])\n",
    "G3.add_edge(2, 4, cost=[86,103])\n",
    "G3.add_edge(2, 5, cost=[91,109])\n",
    "G3.add_edge(2, 6, cost=[19,23])\n",
    "G3.add_edge(2, 7, cost=[32,39])\n",
    "G3.add_edge(2, 8, cost=[37,44])\n",
    "G3.add_edge(2, 9, cost=[23,27])\n",
    "G3.add_edge(2, 10, cost=[23,27])\n",
    "\n",
    "\n",
    "G3.add_edge(3, 1, cost=[53,63])\n",
    "G3.add_edge(3, 2, cost=[86,103])\n",
    "G3.add_edge(3, 4, cost=[12,15])\n",
    "G3.add_edge(3, 5, cost=[11,14])\n",
    "G3.add_edge(3, 6, cost=[77,92])\n",
    "G3.add_edge(3, 7, cost=[79,95])\n",
    "G3.add_edge(3, 8, cost=[90,108])\n",
    "G3.add_edge(3, 9, cost=[92,111])\n",
    "G3.add_edge(3, 10, cost=[77,92])\n",
    "\n",
    "\n",
    "\n",
    "G3.add_edge(4, 1, cost=[56,67])\n",
    "G3.add_edge(4, 2, cost=[86,103])\n",
    "G3.add_edge(4, 3, cost=[12,15])\n",
    "G3.add_edge(4, 5, cost=[23,28])\n",
    "G3.add_edge(4, 6, cost=[75,89])\n",
    "G3.add_edge(4, 7, cost=[83,100])\n",
    "G3.add_edge(4, 8, cost=[95,114])\n",
    "G3.add_edge(4, 9, cost=[89,107])\n",
    "G3.add_edge(4, 10, cost=[80,96])\n",
    "\n",
    "G3.add_edge(5, 1, cost=[55,66])\n",
    "G3.add_edge(5, 2, cost=[91,109])\n",
    "G3.add_edge(5, 3, cost=[11,14])\n",
    "G3.add_edge(5, 4, cost=[23,28])\n",
    "G3.add_edge(5, 6, cost=[84,101])\n",
    "G3.add_edge(5, 7, cost=[80,96])\n",
    "G3.add_edge(5, 8, cost=[91,109]) \n",
    "G3.add_edge(5, 9, cost=[99,119])\n",
    "G3.add_edge(5, 10, cost=[79,95])\n",
    "\n",
    "G3.add_edge(6, 1, cost=[38,46])\n",
    "G3.add_edge(6, 2, cost=[19,23])\n",
    "G3.add_edge(6, 3, cost=[77,92])\n",
    "G3.add_edge(6, 4, cost=[75,89])\n",
    "G3.add_edge(6, 5, cost=[84,101])\n",
    "G3.add_edge(6, 7, cost=[46,55])\n",
    "G3.add_edge(6, 8, cost=[53,63])\n",
    "G3.add_edge(6, 9, cost=[16,19])\n",
    "G3.add_edge(6, 10, cost=[36,43])\n",
    "\n",
    "G3.add_edge(7, 1, cost=[27,33])\n",
    "G3.add_edge(7, 2, cost=[32,39])\n",
    "G3.add_edge(7, 3, cost=[79,95])\n",
    "G3.add_edge(7, 4, cost=[83,100])\n",
    "G3.add_edge(7, 5, cost=[80,96])\n",
    "G3.add_edge(7, 6, cost=[46,55])\n",
    "G3.add_edge(7, 8, cost=[12,14])\n",
    "G3.add_edge(7, 9, cost=[55,66])\n",
    "G3.add_edge(7, 10, cost=[10,12])\n",
    "\n",
    "\n",
    "G3.add_edge(8, 1, cost=[39,47])\n",
    "G3.add_edge(8, 2, cost=[37,44])\n",
    "G3.add_edge(8, 3, cost=[90,108])\n",
    "G3.add_edge(8, 4, cost=[95,114])\n",
    "G3.add_edge(8, 5, cost=[91,109])\n",
    "G3.add_edge(8, 6, cost=[53,63])\n",
    "G3.add_edge(8, 7, cost=[12,14])\n",
    "G3.add_edge(8, 9, cost=[59,71])\n",
    "G3.add_edge(8, 10, cost=[19,22])\n",
    "\n",
    "G3.add_edge(9, 1, cost=[53,63])\n",
    "G3.add_edge(9, 2, cost=[23,27])\n",
    "G3.add_edge(9, 3, cost=[92,111])\n",
    "G3.add_edge(9, 4, cost=[89,107])\n",
    "G3.add_edge(9, 5, cost=[99,119])\n",
    "G3.add_edge(9, 6, cost=[16,19])\n",
    "G3.add_edge(9, 7, cost=[55,66])\n",
    "G3.add_edge(9, 8, cost=[59,71])\n",
    "G3.add_edge(9, 10, cost=[45,54])\n",
    "\n",
    "G3.add_edge(10, 1, cost=[24,29])\n",
    "G3.add_edge(10, 2, cost=[23,27])\n",
    "G3.add_edge(10, 3, cost=[77,92])\n",
    "G3.add_edge(10, 4, cost=[80,96])\n",
    "G3.add_edge(10, 5, cost=[79,95])\n",
    "G3.add_edge(10, 6, cost=[36,43])\n",
    "G3.add_edge(10, 7, cost=[10,12])\n",
    "G3.add_edge(10, 8, cost=[19,22]) \n",
    "G3.add_edge(10, 9, cost=[45,54])\n",
    "\n",
    "\n",
    "G3.nodes[1][\"demand\"] = 8\n",
    "G3.nodes[2][\"demand\"] = 9\n",
    "G3.nodes[3][\"demand\"] = 10\n",
    "G3.nodes[4][\"demand\"] = 7\n",
    "G3.nodes[5][\"demand\"] = 4\n",
    "G3.nodes[6][\"demand\"] = 6\n",
    "G3.nodes[7][\"demand\"] = 2\n",
    "G3.nodes[8][\"demand\"] = 6\n",
    "G3.nodes[9][\"demand\"] = 3\n",
    "G3.nodes[10][\"demand\"] = 7"
   ]
  },
  {
   "cell_type": "code",
   "execution_count": 33,
   "metadata": {},
   "outputs": [
    {
     "data": {
      "text/plain": [
       "{1: 8, 2: 9, 3: 10, 4: 7, 5: 4, 6: 6, 7: 2, 8: 6, 9: 3, 10: 7}"
      ]
     },
     "execution_count": 33,
     "metadata": {},
     "output_type": "execute_result"
    }
   ],
   "source": [
    "week3"
   ]
  },
  {
   "cell_type": "code",
   "execution_count": 34,
   "metadata": {},
   "outputs": [
    {
     "name": "stderr",
     "output_type": "stream",
     "text": [
      "INFO:vrpy.vrp:new upper bound : max num stops = 6\n",
      "INFO:vrpy.vrp:iteration 0, 3826.0\n",
      "INFO:vrpy.vrp:iteration 1, 3177.0\n",
      "INFO:vrpy.vrp:iteration 2, 3177.0\n",
      "INFO:vrpy.vrp:iteration 3, 3078.0\n",
      "INFO:vrpy.vrp:iteration 4, 2970.0\n",
      "INFO:vrpy.vrp:iteration 5, 2905.9\n",
      "INFO:vrpy.vrp:iteration 6, 2779.0\n",
      "INFO:vrpy.vrp:iteration 7, 2779.0\n",
      "INFO:vrpy.vrp:iteration 8, 2768.5\n",
      "INFO:vrpy.vrp:iteration 9, 2688.0\n",
      "INFO:vrpy.vrp:iteration 10, 2685.5\n",
      "INFO:vrpy.vrp:iteration 11, 2663.6\n",
      "INFO:vrpy.vrp:iteration 12, 2655.5\n",
      "INFO:vrpy.master_solve_pulp:total cost = 2688.0\n"
     ]
    },
    {
     "name": "stdout",
     "output_type": "stream",
     "text": [
      "Wall time: 5.26 s\n"
     ]
    }
   ],
   "source": [
    "from vrpy import VehicleRoutingProblem\n",
    "prob3 = VehicleRoutingProblem(G3, mixed_fleet=True,fixed_cost=[300,500],load_capacity=[10,15])\n",
    "%time prob3.solve()"
   ]
  },
  {
   "cell_type": "code",
   "execution_count": 35,
   "metadata": {},
   "outputs": [
    {
     "data": {
      "text/plain": [
       "{1: 334, 2: 380, 3: 392, 4: 468, 5: 631, 6: 483}"
      ]
     },
     "execution_count": 35,
     "metadata": {},
     "output_type": "execute_result"
    }
   ],
   "source": [
    "#Coste de cada ruta\n",
    "prob3.best_routes_cost"
   ]
  },
  {
   "cell_type": "code",
   "execution_count": 36,
   "metadata": {},
   "outputs": [
    {
     "data": {
      "text/plain": [
       "{1: 8, 2: 9, 3: 10, 4: 10, 5: 15, 6: 10}"
      ]
     },
     "execution_count": 36,
     "metadata": {},
     "output_type": "execute_result"
    }
   ],
   "source": [
    "# Material recogido en cada ruta\n",
    "prob3.best_routes_load"
   ]
  },
  {
   "cell_type": "code",
   "execution_count": 37,
   "metadata": {},
   "outputs": [
    {
     "data": {
      "text/plain": [
       "{1: ['Source', 1, 'Sink'],\n",
       " 2: ['Source', 2, 'Sink'],\n",
       " 3: ['Source', 3, 'Sink'],\n",
       " 4: ['Source', 6, 5, 'Sink'],\n",
       " 5: ['Source', 10, 8, 7, 'Sink'],\n",
       " 6: ['Source', 9, 4, 'Sink']}"
      ]
     },
     "execution_count": 37,
     "metadata": {},
     "output_type": "execute_result"
    }
   ],
   "source": [
    "#Rutas optimas\n",
    "prob3.best_routes"
   ]
  },
  {
   "cell_type": "code",
   "execution_count": 38,
   "metadata": {},
   "outputs": [],
   "source": [
    "arcos_activos3=[(0,1),(1,0),(0,2),(2,0),(0,3),(3,0),(0,5),(5,6),(6,0),(0,4),(4,9),(9,0),(0,7),(7,8),(8,10),(10,0)]"
   ]
  },
  {
   "cell_type": "code",
   "execution_count": 39,
   "metadata": {},
   "outputs": [
    {
     "data": {
      "text/plain": [
       "<function matplotlib.pyplot.show(close=None, block=None)>"
      ]
     },
     "execution_count": 39,
     "metadata": {},
     "output_type": "execute_result"
    },
    {
     "data": {
      "image/png": "[encoded data removed]",
      "text/plain": [
       "<Figure size 432x288 with 1 Axes>"
      ]
     },
     "metadata": {},
     "output_type": "display_data"
    }
   ],
   "source": [
    "#Representación de la solución\n",
    "plt.figure(figsize=(6,4))\n",
    "plt.scatter(loc_x[1:],loc_y[1:],color=\"green\")\n",
    "plt.xticks([])\n",
    "plt.yticks([])\n",
    "plt.title(\"Semana 3:  CamionesQ10=5 CamionesQ15=1 Coste=%d\" %(prob3.best_value))\n",
    "for i in puntos_verdes:\n",
    "    plt.annotate('$N_{%d}=%d$' % (i,week3[i]),(loc_x[i]+0.5,loc_y[i]))\n",
    "for i,j in arcos_activos3:\n",
    "    plt.plot([loc_x[i],loc_x[j]],[loc_y[i],loc_y[j]],color=\"salmon\",alpha=0.7)\n",
    "plt.plot(loc_x[0], loc_y[0], c='r', marker='s')\n",
    "plt.annotate('DC',(loc_x[0]-2,loc_y[0]+2))\n",
    "plt.show"
   ]
  },
  {
   "cell_type": "markdown",
   "metadata": {},
   "source": [
    "## 5. Solución cuarta semana"
   ]
  },
  {
   "cell_type": "code",
   "execution_count": 40,
   "metadata": {},
   "outputs": [
    {
     "data": {
      "text/plain": [
       "{1: 7, 2: 4, 3: 3, 4: 3, 5: 5, 6: 3, 7: 4, 8: 1, 9: 5, 10: 5}"
      ]
     },
     "execution_count": 40,
     "metadata": {},
     "output_type": "execute_result"
    }
   ],
   "source": [
    "week4"
   ]
  },
  {
   "cell_type": "code",
   "execution_count": 41,
   "metadata": {},
   "outputs": [],
   "source": [
    "# Definición de la red\n",
    "\n",
    "from networkx import DiGraph\n",
    "\n",
    "G4 = DiGraph()\n",
    "\n",
    "G4.add_edge(\"Source\", 1, cost=[17,21])\n",
    "G4.add_edge(\"Source\", 2, cost=[40,48])   \n",
    "G4.add_edge(\"Source\", 3, cost=[46,55])\n",
    "G4.add_edge(\"Source\", 4, cost=[46,55])\n",
    "G4.add_edge(\"Source\", 5, cost=[52,62])\n",
    "G4.add_edge(\"Source\", 6, cost=[32,39])\n",
    "G4.add_edge(\"Source\", 7, cost=[42,51])\n",
    "G4.add_edge(\"Source\", 8, cost=[54,64])\n",
    "G4.add_edge(\"Source\", 9, cost=[48,57])\n",
    "G4.add_edge(\"Source\", 10, cost=[36,44]) \n",
    "\n",
    "\n",
    "G4.add_edge(1, \"Sink\", cost=[17,21])\n",
    "G4.add_edge(2, \"Sink\", cost=[40,48])\n",
    "G4.add_edge(3, \"Sink\", cost=[46,55])\n",
    "G4.add_edge(4, \"Sink\", cost=[46,55])\n",
    "G4.add_edge(5, \"Sink\", cost=[52,62])\n",
    "G4.add_edge(6, \"Sink\", cost=[32,39])\n",
    "G4.add_edge(7, \"Sink\", cost=[42,51])\n",
    "G4.add_edge(8, \"Sink\", cost=[54,64])\n",
    "G4.add_edge(9, \"Sink\", cost=[48,57])\n",
    "G4.add_edge(10, \"Sink\", cost=[36,44])\n",
    "\n",
    "\n",
    "\n",
    "G4.add_edge(1, 2, cost=[37,45])\n",
    "G4.add_edge(1, 3, cost=[53,63])\n",
    "G4.add_edge(1, 4, cost=[56,67])\n",
    "G4.add_edge(1, 5, cost=[55,66])\n",
    "G4.add_edge(1, 6, cost=[38,46])\n",
    "G4.add_edge(1, 7, cost=[27,33])\n",
    "G4.add_edge(1, 8, cost=[39,47])\n",
    "G4.add_edge(1, 9, cost=[53,63])\n",
    "G4.add_edge(1, 10, cost=[24,29])\n",
    "\n",
    "\n",
    "G4.add_edge(2, 1, cost=[37,45])\n",
    "G4.add_edge(2, 3, cost=[86,103])\n",
    "G4.add_edge(2, 4, cost=[86,103])\n",
    "G4.add_edge(2, 5, cost=[91,109])\n",
    "G4.add_edge(2, 6, cost=[19,23])\n",
    "G4.add_edge(2, 7, cost=[32,39])\n",
    "G4.add_edge(2, 8, cost=[37,44])\n",
    "G4.add_edge(2, 9, cost=[23,27])\n",
    "G4.add_edge(2, 10, cost=[23,27])\n",
    "\n",
    "\n",
    "G4.add_edge(3, 1, cost=[53,63])\n",
    "G4.add_edge(3, 2, cost=[86,103])\n",
    "G4.add_edge(3, 4, cost=[12,15])\n",
    "G4.add_edge(3, 5, cost=[11,14])\n",
    "G4.add_edge(3, 6, cost=[77,92])\n",
    "G4.add_edge(3, 7, cost=[79,95])\n",
    "G4.add_edge(3, 8, cost=[90,108])\n",
    "G4.add_edge(3, 9, cost=[92,111])\n",
    "G4.add_edge(3, 10, cost=[77,92])\n",
    "\n",
    "\n",
    "\n",
    "G4.add_edge(4, 1, cost=[56,67])\n",
    "G4.add_edge(4, 2, cost=[86,103])\n",
    "G4.add_edge(4, 3, cost=[12,15])\n",
    "G4.add_edge(4, 5, cost=[23,28])\n",
    "G4.add_edge(4, 6, cost=[75,89])\n",
    "G4.add_edge(4, 7, cost=[83,100])\n",
    "G4.add_edge(4, 8, cost=[95,114])\n",
    "G4.add_edge(4, 9, cost=[89,107])\n",
    "G4.add_edge(4, 10, cost=[80,96])\n",
    "\n",
    "G4.add_edge(5, 1, cost=[55,66])\n",
    "G4.add_edge(5, 2, cost=[91,109])\n",
    "G4.add_edge(5, 3, cost=[11,14])\n",
    "G4.add_edge(5, 4, cost=[23,28])\n",
    "G4.add_edge(5, 6, cost=[84,101])\n",
    "G4.add_edge(5, 7, cost=[80,96])\n",
    "G4.add_edge(5, 8, cost=[91,109]) \n",
    "G4.add_edge(5, 9, cost=[99,119])\n",
    "G3.add_edge(5, 10, cost=[79,95])\n",
    "\n",
    "G4.add_edge(6, 1, cost=[38,46])\n",
    "G4.add_edge(6, 2, cost=[19,23])\n",
    "G4.add_edge(6, 3, cost=[77,92])\n",
    "G4.add_edge(6, 4, cost=[75,89])\n",
    "G4.add_edge(6, 5, cost=[84,101])\n",
    "G4.add_edge(6, 7, cost=[46,55])\n",
    "G4.add_edge(6, 8, cost=[53,63])\n",
    "G4.add_edge(6, 9, cost=[16,19])\n",
    "G4.add_edge(6, 10, cost=[36,43])\n",
    "\n",
    "G4.add_edge(7, 1, cost=[27,33])\n",
    "G4.add_edge(7, 2, cost=[32,39])\n",
    "G4.add_edge(7, 3, cost=[79,95])\n",
    "G4.add_edge(7, 4, cost=[83,100])\n",
    "G4.add_edge(7, 5, cost=[80,96])\n",
    "G4.add_edge(7, 6, cost=[46,55])\n",
    "G4.add_edge(7, 8, cost=[12,14])\n",
    "G4.add_edge(7, 9, cost=[55,66])\n",
    "G4.add_edge(7, 10, cost=[10,12])\n",
    "\n",
    "\n",
    "G4.add_edge(8, 1, cost=[39,47])\n",
    "G4.add_edge(8, 2, cost=[37,44])\n",
    "G4.add_edge(8, 3, cost=[90,108])\n",
    "G4.add_edge(8, 4, cost=[95,114])\n",
    "G4.add_edge(8, 5, cost=[91,109])\n",
    "G4.add_edge(8, 6, cost=[53,63])\n",
    "G4.add_edge(8, 7, cost=[12,14])\n",
    "G4.add_edge(8, 9, cost=[59,71])\n",
    "G4.add_edge(8, 10, cost=[19,22])\n",
    "\n",
    "G4.add_edge(9, 1, cost=[53,63])\n",
    "G4.add_edge(9, 2, cost=[23,27])\n",
    "G4.add_edge(9, 3, cost=[92,111])\n",
    "G4.add_edge(9, 4, cost=[89,107])\n",
    "G4.add_edge(9, 5, cost=[99,119])\n",
    "G4.add_edge(9, 6, cost=[16,19])\n",
    "G4.add_edge(9, 7, cost=[55,66])\n",
    "G4.add_edge(9, 8, cost=[59,71])\n",
    "G4.add_edge(9, 10, cost=[45,54])\n",
    "\n",
    "G4.add_edge(10, 1, cost=[24,29])\n",
    "G4.add_edge(10, 2, cost=[23,27])\n",
    "G4.add_edge(10, 3, cost=[77,92])\n",
    "G4.add_edge(10, 4, cost=[80,96])\n",
    "G4.add_edge(10, 5, cost=[79,95])\n",
    "G4.add_edge(10, 6, cost=[36,43])\n",
    "G4.add_edge(10, 7, cost=[10,12])\n",
    "G4.add_edge(10, 8, cost=[19,22]) \n",
    "G4.add_edge(10, 9, cost=[45,54])\n",
    "\n",
    "\n",
    "G4.nodes[1][\"demand\"] = 7\n",
    "G4.nodes[2][\"demand\"] = 4\n",
    "G4.nodes[3][\"demand\"] = 3\n",
    "G4.nodes[4][\"demand\"] = 3\n",
    "G4.nodes[5][\"demand\"] = 5\n",
    "G4.nodes[6][\"demand\"] = 3\n",
    "G4.nodes[7][\"demand\"] = 4\n",
    "G4.nodes[8][\"demand\"] = 1\n",
    "G4.nodes[9][\"demand\"] = 5\n",
    "G4.nodes[10][\"demand\"] = 5"
   ]
  },
  {
   "cell_type": "code",
   "execution_count": 42,
   "metadata": {},
   "outputs": [
    {
     "name": "stderr",
     "output_type": "stream",
     "text": [
      "INFO:vrpy.vrp:new upper bound : max num stops = 7\n",
      "INFO:vrpy.vrp:iteration 0, 3826.0\n",
      "INFO:vrpy.vrp:iteration 1, 2803.0\n",
      "INFO:vrpy.vrp:iteration 2, 2456.0\n",
      "INFO:vrpy.vrp:iteration 3, 2415.0\n",
      "INFO:vrpy.vrp:iteration 4, 2290.5\n",
      "INFO:vrpy.vrp:iteration 5, 2290.5\n",
      "INFO:vrpy.vrp:iteration 6, 2183.0\n",
      "INFO:vrpy.vrp:iteration 7, 2085.1\n",
      "INFO:vrpy.vrp:iteration 8, 2025.9\n",
      "INFO:vrpy.vrp:iteration 9, 1922.6\n",
      "INFO:vrpy.vrp:iteration 10, 1904.0\n",
      "INFO:vrpy.vrp:iteration 11, 1884.6\n",
      "INFO:vrpy.vrp:iteration 12, 1843.6\n",
      "INFO:vrpy.vrp:iteration 13, 1803.8\n",
      "INFO:vrpy.vrp:iteration 14, 1792.2\n",
      "INFO:vrpy.vrp:iteration 15, 1781.7\n",
      "INFO:vrpy.vrp:iteration 16, 1777.7\n",
      "INFO:vrpy.vrp:iteration 17, 1775.3\n",
      "INFO:vrpy.vrp:iteration 18, 1773.0\n",
      "INFO:vrpy.vrp:iteration 19, 1773.0\n",
      "INFO:vrpy.master_solve_pulp:total cost = 1779.0\n"
     ]
    },
    {
     "name": "stdout",
     "output_type": "stream",
     "text": [
      "Wall time: 13.3 s\n"
     ]
    }
   ],
   "source": [
    "from vrpy import VehicleRoutingProblem\n",
    "prob4 = VehicleRoutingProblem(G4, mixed_fleet=True,fixed_cost=[300,500],load_capacity=[10,15])\n",
    "%time prob4.solve()"
   ]
  },
  {
   "cell_type": "code",
   "execution_count": 43,
   "metadata": {},
   "outputs": [
    {
     "data": {
      "text/plain": [
       "{1: ['Source', 7, 8, 10, 'Sink'],\n",
       " 2: ['Source', 6, 1, 'Sink'],\n",
       " 3: ['Source', 4, 3, 2, 'Sink'],\n",
       " 4: ['Source', 9, 5, 'Sink']}"
      ]
     },
     "execution_count": 43,
     "metadata": {},
     "output_type": "execute_result"
    }
   ],
   "source": [
    "#Rutas optimas\n",
    "prob4.best_routes"
   ]
  },
  {
   "cell_type": "code",
   "execution_count": 44,
   "metadata": {},
   "outputs": [
    {
     "data": {
      "text/plain": [
       "{1: 409, 2: 387, 3: 484, 4: 499}"
      ]
     },
     "execution_count": 44,
     "metadata": {},
     "output_type": "execute_result"
    }
   ],
   "source": [
    "#Coste de cada ruta\n",
    "prob4.best_routes_cost"
   ]
  },
  {
   "cell_type": "code",
   "execution_count": 45,
   "metadata": {},
   "outputs": [
    {
     "data": {
      "text/plain": [
       "{1: 10, 2: 10, 3: 10, 4: 10}"
      ]
     },
     "execution_count": 45,
     "metadata": {},
     "output_type": "execute_result"
    }
   ],
   "source": [
    "# Material recogido en cada ruta\n",
    "prob4.best_routes_load"
   ]
  },
  {
   "cell_type": "code",
   "execution_count": 46,
   "metadata": {},
   "outputs": [],
   "source": [
    "arcos_activos4=[(0,7),(7,8),(8,10),(10,0),(0,6),(6,1),(1,0),(0,4),(4,3),(3,2),(2,0),(0,9),(9,5),(5,0)]"
   ]
  },
  {
   "cell_type": "code",
   "execution_count": 47,
   "metadata": {
    "scrolled": true
   },
   "outputs": [
    {
     "data": {
      "text/plain": [
       "<function matplotlib.pyplot.show(close=None, block=None)>"
      ]
     },
     "execution_count": 47,
     "metadata": {},
     "output_type": "execute_result"
    },
    {
     "data": {
      "image/png": "[encoded data removed]",
      "text/plain": [
       "<Figure size 432x288 with 1 Axes>"
      ]
     },
     "metadata": {},
     "output_type": "display_data"
    }
   ],
   "source": [
    "#Representación de la solución\n",
    "plt.figure(figsize=(6,4))\n",
    "plt.scatter(loc_x[1:],loc_y[1:],color=\"green\")\n",
    "plt.xticks([])\n",
    "plt.yticks([])\n",
    "plt.title(\"Semana 4: CamionesQ10=4  CamionesQ15=0  Coste=%d\" %(prob4.best_value))\n",
    "for i in puntos_verdes:\n",
    "    plt.annotate('$N_{%d}=%d$' % (i,week4[i]),(loc_x[i]+0.5,loc_y[i]))\n",
    "for i,j in arcos_activos4:\n",
    "    plt.plot([loc_x[i],loc_x[j]],[loc_y[i],loc_y[j]],color=\"yellowgreen\",alpha=0.7)\n",
    "plt.plot(loc_x[0], loc_y[0], c='r', marker='s')\n",
    "plt.annotate('DC',(loc_x[0]-2,loc_y[0]+2))\n",
    "plt.show"
   ]
  }
 ],
 "metadata": {
  "kernelspec": {
   "display_name": "Python 3",
   "language": "python",
   "name": "python3"
  },
  "language_info": {
   "codemirror_mode": {
    "name": "ipython",
    "version": 3
   },
   "file_extension": ".py",
   "mimetype": "text/x-python",
   "name": "python",
   "nbconvert_exporter": "python",
   "pygments_lexer": "ipython3",
   "version": "3.8.5"
  }
 },
 "nbformat": 4,
 "nbformat_minor": 4
}
