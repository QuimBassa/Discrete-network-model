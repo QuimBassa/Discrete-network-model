{
 "cells": [
  {
   "cell_type": "markdown",
   "metadata": {},
   "source": [
    "<h1><center>MÉTODO DE SOLUCIÓN I</center></h1>\n",
    "\n",
    "RESUMEN:<br>\n",
    "&ensp;1.Suposiciones sobre la demanda<br>\n",
    "&ensp;2.Representación gráfica<br>\n",
    "&ensp;3.Parametros<br>\n",
    "&ensp;5.Modelo<br>\n",
    "&ensp;4.Solución para Q=10<br>\n",
    "&emsp;*5.1. Week 1<br>\n",
    "&emsp;5.2. Week 2<br>\n",
    "&emsp;5.3. Week 3<br>\n",
    "&emsp;5.4. Week 4<br>\n",
    "&ensp;6.Solución para Q=15<br>\n",
    "&emsp;*6.1. Week 1<br>\n",
    "&emsp;6.2. Week 2<br>\n",
    "&emsp;6.3. Week 3<br>\n",
    "&emsp;6.4. Week 4<br>\n",
    "\n",
    "En este Script se plantea el método de solución exacto para el sistema de recogida utilizando una flota homogenea de camiones.\n",
    "A continuación, se detalla paso a paso, cada una de las instrucciones necesarias para obtener la solución."
   ]
  },
  {
   "cell_type": "markdown",
   "metadata": {},
   "source": [
    "## 1. Suposiciones sobre la demanda"
   ]
  },
  {
   "cell_type": "markdown",
   "metadata": {},
   "source": [
    "En primer lugar, acorde con los datos proporcionados por el ayuntamiento de Barcelona (Ilustración 1 de la memoria del proyecto), se calcula el  volumen aproximado de residuos a recoger mensualmente."
   ]
  },
  {
   "cell_type": "code",
   "execution_count": 1,
   "metadata": {},
   "outputs": [],
   "source": [
    "import numpy as np\n",
    "Demanda_Total_Anual= 2531\n",
    "mes=12"
   ]
  },
  {
   "cell_type": "code",
   "execution_count": 2,
   "metadata": {},
   "outputs": [
    {
     "data": {
      "text/plain": [
       "211"
      ]
     },
     "execution_count": 2,
     "metadata": {},
     "output_type": "execute_result"
    }
   ],
   "source": [
    "#Asumimos que la demanda anual se distribuye linealmente para cada mes del año.\n",
    "Demanda_month=round(Demanda_Total_Anual/mes)\n",
    "Demanda_month"
   ]
  },
  {
   "cell_type": "markdown",
   "metadata": {},
   "source": [
    "Para simplificar la resolución del problema, no consideramos obtener el mínimo coste anual para los 27 puntos verdes, sino que\n",
    "planteamos optimizar el coste mensual de una red con solo 10 puntos verdes.\n",
    "\n",
    "Asumimos que la demanda mensual es de 211 toneladas, la cual se distribuye aleatoriamente entre las 4 semanas. \n",
    "Asimismo, la correspondiente demanda semanal también se distribuye de forma completamente aleatoria entre los diferentes puntos verdes. \n",
    "\n",
    "De esta forma, consideremos un escenario parecido a la realidad. Se quiere optimizar el coste mensual del servicio, sabiendo que la demanda total semanal y las necesidades del los nodos, varian en cada perido de tiempo.\n"
   ]
  },
  {
   "cell_type": "code",
   "execution_count": 3,
   "metadata": {},
   "outputs": [
    {
     "data": {
      "text/plain": [
       "[56, 53, 62, 40]"
      ]
     },
     "execution_count": 3,
     "metadata": {},
     "output_type": "execute_result"
    }
   ],
   "source": [
    "#Asumimos que la demanda mensual se distrybuye aleatoriamente entre las 4 semanas de cada mes.\n",
    "rnd = np.random\n",
    "rnd.seed(0)\n",
    "Demanda_weeks=np.random.multinomial(Demanda_month, np.ones(4)/4, size=1)[0].tolist()\n",
    "Demanda_weeks"
   ]
  },
  {
   "cell_type": "code",
   "execution_count": 4,
   "metadata": {},
   "outputs": [
    {
     "data": {
      "text/plain": [
       "[1, 2, 3, 4, 5, 6, 7, 8, 9, 10]"
      ]
     },
     "execution_count": 4,
     "metadata": {},
     "output_type": "execute_result"
    }
   ],
   "source": [
    "#Genero el conjunto de nodos a los cuales debemos ofrecer servicios\n",
    "n=10\n",
    "puntos_verdes=[x for x in range(1,n+1)]\n",
    "puntos_verdes"
   ]
  },
  {
   "cell_type": "code",
   "execution_count": 5,
   "metadata": {},
   "outputs": [],
   "source": [
    "#Creo una función para asignar una demanda aleatoria  en cada punto verde.\n",
    "rnd = np.random\n",
    "rnd.seed(0)\n",
    "def get_nodos_demand(semana):\n",
    "    n=10\n",
    "    key=puntos_verdes\n",
    "    values=np.random.multinomial(semana, np.ones(n)/n, size=1)[0].tolist()\n",
    "    r=dict(zip(key,values))\n",
    "    return r"
   ]
  },
  {
   "cell_type": "code",
   "execution_count": 6,
   "metadata": {},
   "outputs": [
    {
     "data": {
      "text/plain": [
       "({1: 6, 2: 7, 3: 6, 4: 5, 5: 5, 6: 6, 7: 5, 8: 8, 9: 6, 10: 2}, 56)"
      ]
     },
     "execution_count": 6,
     "metadata": {},
     "output_type": "execute_result"
    }
   ],
   "source": [
    "# Semana 1\n",
    "week1=get_nodos_demand(Demanda_weeks[0])\n",
    "week1, sum(week1.values())"
   ]
  },
  {
   "cell_type": "code",
   "execution_count": 7,
   "metadata": {},
   "outputs": [
    {
     "data": {
      "text/plain": [
       "({1: 5, 2: 7, 3: 5, 4: 5, 5: 8, 6: 2, 7: 3, 8: 2, 9: 10, 10: 6}, 53)"
      ]
     },
     "execution_count": 7,
     "metadata": {},
     "output_type": "execute_result"
    }
   ],
   "source": [
    "# Semana 2\n",
    "week2=get_nodos_demand(Demanda_weeks[1])\n",
    "week2, sum(week2.values())"
   ]
  },
  {
   "cell_type": "code",
   "execution_count": 8,
   "metadata": {},
   "outputs": [
    {
     "data": {
      "text/plain": [
       "({1: 8, 2: 9, 3: 10, 4: 7, 5: 4, 6: 6, 7: 2, 8: 6, 9: 3, 10: 7}, 62)"
      ]
     },
     "execution_count": 8,
     "metadata": {},
     "output_type": "execute_result"
    }
   ],
   "source": [
    "# Semana 3\n",
    "week3=get_nodos_demand(Demanda_weeks[2])\n",
    "week3, sum(week3.values())"
   ]
  },
  {
   "cell_type": "code",
   "execution_count": 9,
   "metadata": {},
   "outputs": [
    {
     "data": {
      "text/plain": [
       "({1: 7, 2: 4, 3: 3, 4: 3, 5: 5, 6: 3, 7: 4, 8: 1, 9: 5, 10: 5}, 40)"
      ]
     },
     "execution_count": 9,
     "metadata": {},
     "output_type": "execute_result"
    }
   ],
   "source": [
    "# Semana 4\n",
    "week4=get_nodos_demand(Demanda_weeks[3])\n",
    "week4, sum(week4.values())"
   ]
  },
  {
   "cell_type": "code",
   "execution_count": 10,
   "metadata": {},
   "outputs": [
    {
     "data": {
      "text/plain": [
       "{1: {1: 6, 2: 7, 3: 6, 4: 5, 5: 5, 6: 6, 7: 5, 8: 8, 9: 6, 10: 2},\n",
       " 2: {1: 5, 2: 7, 3: 5, 4: 5, 5: 8, 6: 2, 7: 3, 8: 2, 9: 10, 10: 6},\n",
       " 3: {1: 8, 2: 9, 3: 10, 4: 7, 5: 4, 6: 6, 7: 2, 8: 6, 9: 3, 10: 7},\n",
       " 4: {1: 7, 2: 4, 3: 3, 4: 3, 5: 5, 6: 3, 7: 4, 8: 1, 9: 5, 10: 5}}"
      ]
     },
     "execution_count": 10,
     "metadata": {},
     "output_type": "execute_result"
    }
   ],
   "source": [
    "week_demand_puntoverde={1:week1,2:week2,3:week3,4:week4}\n",
    "week_demand_puntoverde"
   ]
  },
  {
   "cell_type": "markdown",
   "metadata": {},
   "source": [
    "## 2. Representación gráfica del problema"
   ]
  },
  {
   "cell_type": "markdown",
   "metadata": {},
   "source": [
    "Si se asume una flota homogenea de camiones, el problema planteado es bastante simple. Se debe calcular un CVRP (Capacited Vehicle Routing Problem) para cada semana iterativamente. Para cada considerando la distribución de los residuos en los diferentes nodos en cada periodo de tiempo.\n",
    "\n",
    "El coste total mensual, será el coste optimo de transporte para cada semana, más el coste fijo determinado por el número mínimo de camiones necesarios ese mes."
   ]
  },
  {
   "cell_type": "code",
   "execution_count": 11,
   "metadata": {},
   "outputs": [
    {
     "data": {
      "text/plain": [
       "[0, 1, 2, 3, 4, 5, 6, 7, 8, 9, 10]"
      ]
     },
     "execution_count": 11,
     "metadata": {},
     "output_type": "execute_result"
    }
   ],
   "source": [
    "#Genero el conjunto Vertices = Puntos verdes + Deposito común\n",
    "vertices=[0]+puntos_verdes\n",
    "vertices"
   ]
  },
  {
   "cell_type": "code",
   "execution_count": 12,
   "metadata": {},
   "outputs": [],
   "source": [
    "#Creo unas coordenadas aleatorias para todos los vertices\n",
    "rnd = np.random\n",
    "rnd.seed(0)\n",
    "loc_x=rnd.rand(len(vertices))*100\n",
    "loc_y=rnd.rand(len(vertices))*100"
   ]
  },
  {
   "cell_type": "code",
   "execution_count": 13,
   "metadata": {},
   "outputs": [
    {
     "data": {
      "image/png": "[encoded data removed]",
      "text/plain": [
       "<Figure size 576x432 with 1 Axes>"
      ]
     },
     "metadata": {},
     "output_type": "display_data"
    },
    {
     "data": {
      "image/png": "[encoded data removed]",
      "text/plain": [
       "<Figure size 576x432 with 1 Axes>"
      ]
     },
     "metadata": {},
     "output_type": "display_data"
    },
    {
     "data": {
      "image/png": "[encoded data removed]",
      "text/plain": [
       "<Figure size 576x432 with 1 Axes>"
      ]
     },
     "metadata": {},
     "output_type": "display_data"
    },
    {
     "data": {
      "image/png": "[encoded data removed]",
      "text/plain": [
       "<Figure size 576x432 with 1 Axes>"
      ]
     },
     "metadata": {},
     "output_type": "display_data"
    }
   ],
   "source": [
    "import matplotlib.pyplot as plt\n",
    "\n",
    "for t,w in week_demand_puntoverde.items():\n",
    "    plt.figure(figsize=(8,6))\n",
    "    plt.scatter(loc_x[1:],loc_y[1:],color=\"green\")\n",
    "    plt.xticks([])\n",
    "    plt.yticks([])\n",
    "    plt.title(\"Semana %d   Demanda semanal=%d\" %(t,sum(w.values())))\n",
    "    for i in puntos_verdes:\n",
    "        plt.annotate('$N_{%d}=%d$' % (i,w[i]),(loc_x[i]+0.5,loc_y[i]))\n",
    "    #Expongo el deposito comun\n",
    "    plt.plot(loc_x[0], loc_y[0], c='r', marker='s')\n",
    "    plt.annotate('DC',(loc_x[0]-2,loc_y[0]+2))"
   ]
  },
  {
   "cell_type": "markdown",
   "metadata": {},
   "source": [
    "## 3. Parametros"
   ]
  },
  {
   "cell_type": "markdown",
   "metadata": {},
   "source": [
    "Configuramos los parametros restantes que aún no han sido definidos."
   ]
  },
  {
   "cell_type": "code",
   "execution_count": 14,
   "metadata": {},
   "outputs": [
    {
     "data": {
      "text/plain": [
       "[(4, 0), (4, 9), (5, 1), (8, 0), (5, 10)]"
      ]
     },
     "execution_count": 14,
     "metadata": {},
     "output_type": "execute_result"
    }
   ],
   "source": [
    "#Genero el conjunto de arcos\n",
    "arcos={(i,j) for i in vertices for j in vertices if i!=j}\n",
    "list(arcos)[:5]"
   ]
  },
  {
   "cell_type": "code",
   "execution_count": 15,
   "metadata": {},
   "outputs": [],
   "source": [
    "# Genero el conjunto de costes\n",
    "\n",
    "# La distancia entre los nodos determina el coste de transporte. Se ha calculado la distancia euclidean entre todos los vertices\n",
    "\n",
    "coste={(i,j):round(np.hypot(loc_x[i]-loc_x[j],loc_y[i]-loc_y[j])) \n",
    "           for i in vertices for j in vertices if i!=j}"
   ]
  },
  {
   "cell_type": "markdown",
   "metadata": {},
   "source": [
    "## 4. Modelo"
   ]
  },
  {
   "cell_type": "code",
   "execution_count": 16,
   "metadata": {},
   "outputs": [],
   "source": [
    "from gurobipy import Model, GRB, quicksum"
   ]
  },
  {
   "cell_type": "markdown",
   "metadata": {},
   "source": [
    "## 5. Solución para Q=10\n",
    "\n",
    "Consideremos una flota uniforme de camiones de 10 toneladas."
   ]
  },
  {
   "cell_type": "code",
   "execution_count": 17,
   "metadata": {},
   "outputs": [],
   "source": [
    "Q1=10"
   ]
  },
  {
   "cell_type": "markdown",
   "metadata": {},
   "source": [
    "### 5.1. Week 1"
   ]
  },
  {
   "cell_type": "code",
   "execution_count": 18,
   "metadata": {},
   "outputs": [
    {
     "data": {
      "text/plain": [
       "{1: 6, 2: 7, 3: 6, 4: 5, 5: 5, 6: 6, 7: 5, 8: 8, 9: 6, 10: 2}"
      ]
     },
     "execution_count": 18,
     "metadata": {},
     "output_type": "execute_result"
    }
   ],
   "source": [
    "week1"
   ]
  },
  {
   "cell_type": "code",
   "execution_count": 19,
   "metadata": {},
   "outputs": [
    {
     "name": "stdout",
     "output_type": "stream",
     "text": [
      "Academic license - for non-commercial use only - expires 2021-06-25\n",
      "Using license file C:\\Users\\bassa\\gurobi.lic\n"
     ]
    }
   ],
   "source": [
    "mdl = Model('VRP')"
   ]
  },
  {
   "cell_type": "code",
   "execution_count": 20,
   "metadata": {},
   "outputs": [],
   "source": [
    "x = mdl.addVars(arcos, vtype=GRB.BINARY)\n",
    "u = mdl.addVars(puntos_verdes, vtype=GRB.CONTINUOUS)"
   ]
  },
  {
   "cell_type": "code",
   "execution_count": 21,
   "metadata": {},
   "outputs": [],
   "source": [
    "mdl.modelSense = GRB.MINIMIZE\n",
    "mdl.setObjective(quicksum(300*x[0,j] for j in puntos_verdes)+\n",
    "                 quicksum(x[i, j]*coste[i, j] for i, j in arcos))"
   ]
  },
  {
   "cell_type": "code",
   "execution_count": 22,
   "metadata": {},
   "outputs": [],
   "source": [
    "mdl.addConstrs(quicksum(x[i, j] for j in vertices if j != i) == 1 for i in puntos_verdes);\n",
    "mdl.addConstrs(quicksum(x[i, j] for i in vertices if i != j) == 1 for j in puntos_verdes);\n",
    "mdl.addConstrs((x[i, j] == 1) >> (u[i]+week1[j] <= u[j])\n",
    "               for i, j in arcos if i != 0 and j != 0);\n",
    "mdl.addConstrs(u[i] >= week1[i] for i in puntos_verdes);\n",
    "mdl.addConstrs(u[i] <= Q1 for i in puntos_verdes);"
   ]
  },
  {
   "cell_type": "code",
   "execution_count": 23,
   "metadata": {},
   "outputs": [
    {
     "name": "stdout",
     "output_type": "stream",
     "text": [
      "Gurobi Optimizer version 9.1.2 build v9.1.2rc0 (win64)\n",
      "Thread count: 4 physical cores, 8 logical processors, using up to 8 threads\n",
      "Optimize a model with 40 rows, 120 columns and 220 nonzeros\n",
      "Model fingerprint: 0x8638d9a2\n",
      "Model has 90 general constraints\n",
      "Variable types: 10 continuous, 110 integer (110 binary)\n",
      "Coefficient statistics:\n",
      "  Matrix range     [1e+00, 1e+00]\n",
      "  Objective range  [1e+01, 4e+02]\n",
      "  Bounds range     [1e+00, 1e+00]\n",
      "  RHS range        [1e+00, 1e+01]\n",
      "Presolve removed 12 rows and 87 columns\n",
      "Presolve time: 0.01s\n",
      "Presolved: 28 rows, 33 columns, 184 nonzeros\n",
      "Variable types: 9 continuous, 24 integer (24 binary)\n",
      "\n",
      "Root relaxation: objective 2.958000e+03, 6 iterations, 0.00 seconds\n",
      "\n",
      "    Nodes    |    Current Node    |     Objective Bounds      |     Work\n",
      " Expl Unexpl |  Obj  Depth IntInf | Incumbent    BestBd   Gap | It/Node Time\n",
      "\n",
      "     0     0 2958.00000    0    3          - 2958.00000      -     -    0s\n",
      "H    0     0                    3080.0000000 2958.00000  3.96%     -    0s\n",
      "     0     0 infeasible    0      3080.00000 3080.00000  0.00%     -    0s\n",
      "\n",
      "Cutting planes:\n",
      "  Implied bound: 3\n",
      "  Clique: 1\n",
      "\n",
      "Explored 1 nodes (9 simplex iterations) in 0.07 seconds\n",
      "Thread count was 8 (of 8 available processors)\n",
      "\n",
      "Solution count 1: 3080 \n",
      "\n",
      "Optimal solution found (tolerance 1.00e-04)\n",
      "Best objective 3.080000000000e+03, best bound 3.080000000000e+03, gap 0.0000%\n"
     ]
    }
   ],
   "source": [
    "mdl.optimize()"
   ]
  },
  {
   "cell_type": "code",
   "execution_count": 24,
   "metadata": {},
   "outputs": [
    {
     "data": {
      "text/plain": [
       "3080.0"
      ]
     },
     "execution_count": 24,
     "metadata": {},
     "output_type": "execute_result"
    }
   ],
   "source": [
    "#Coste de transporte de la semana 1\n",
    "mdl.ObjVal"
   ]
  },
  {
   "cell_type": "code",
   "execution_count": 25,
   "metadata": {},
   "outputs": [],
   "source": [
    "arcos_activos1 = [a for a in arcos if x[a].x > 0.99]\n"
   ]
  },
  {
   "cell_type": "code",
   "execution_count": 26,
   "metadata": {},
   "outputs": [],
   "source": [
    "#Calculamos el numero de rutas/camiones necesarios\n",
    "n_rutas=0\n",
    "for t in arcos_activos1:\n",
    "    if t[0]==0:\n",
    "        n_rutas+=1"
   ]
  },
  {
   "cell_type": "code",
   "execution_count": 27,
   "metadata": {
    "scrolled": true
   },
   "outputs": [
    {
     "data": {
      "text/plain": [
       "<function matplotlib.pyplot.show(close=None, block=None)>"
      ]
     },
     "execution_count": 27,
     "metadata": {},
     "output_type": "execute_result"
    },
    {
     "data": {
      "image/png": "[encoded data removed]",
      "text/plain": [
       "<Figure size 432x288 with 1 Axes>"
      ]
     },
     "metadata": {},
     "output_type": "display_data"
    }
   ],
   "source": [
    "#Representación de la solución\n",
    "plt.figure(figsize=(6,4))\n",
    "plt.scatter(loc_x[1:],loc_y[1:],color=\"green\")\n",
    "plt.xticks([])\n",
    "plt.yticks([])\n",
    "plt.title(\"Semana 1:  Camiones=%d  Coste=%d\" %(n_rutas,mdl.ObjVal))\n",
    "for i in puntos_verdes:\n",
    "    plt.annotate('$N_{%d}=%d$' % (i,week1[i]),(loc_x[i]+0.5,loc_y[i]))\n",
    "for i,j in arcos_activos1:\n",
    "    plt.plot([loc_x[i],loc_x[j]],[loc_y[i],loc_y[j]],color=\"blue\",alpha=0.7)\n",
    "#Expongo el deposito comun\n",
    "plt.plot(loc_x[0], loc_y[0], c='r', marker='s')\n",
    "plt.annotate('DC',(loc_x[0]-2,loc_y[0]+2))\n",
    "plt.show"
   ]
  },
  {
   "cell_type": "markdown",
   "metadata": {},
   "source": [
    "### 5.2. Week 2"
   ]
  },
  {
   "cell_type": "code",
   "execution_count": 28,
   "metadata": {},
   "outputs": [
    {
     "data": {
      "text/plain": [
       "{1: 5, 2: 7, 3: 5, 4: 5, 5: 8, 6: 2, 7: 3, 8: 2, 9: 10, 10: 6}"
      ]
     },
     "execution_count": 28,
     "metadata": {},
     "output_type": "execute_result"
    }
   ],
   "source": [
    "week2"
   ]
  },
  {
   "cell_type": "code",
   "execution_count": 29,
   "metadata": {},
   "outputs": [],
   "source": [
    "md2 = Model('VRP')"
   ]
  },
  {
   "cell_type": "code",
   "execution_count": 30,
   "metadata": {},
   "outputs": [],
   "source": [
    "x = md2.addVars(arcos, vtype=GRB.BINARY)\n",
    "u = md2.addVars(puntos_verdes, vtype=GRB.CONTINUOUS)"
   ]
  },
  {
   "cell_type": "code",
   "execution_count": 31,
   "metadata": {},
   "outputs": [],
   "source": [
    "md2.modelSense = GRB.MINIMIZE\n",
    "md2.setObjective(quicksum(300*x[0,j] for j in puntos_verdes)+\n",
    "                 quicksum(x[i, j]*coste[i, j] for i, j in arcos))"
   ]
  },
  {
   "cell_type": "code",
   "execution_count": 32,
   "metadata": {},
   "outputs": [],
   "source": [
    "md2.addConstrs(quicksum(x[i, j] for j in vertices if j != i) == 1 for i in puntos_verdes);\n",
    "md2.addConstrs(quicksum(x[i, j] for i in vertices if i != j) == 1 for j in puntos_verdes);\n",
    "md2.addConstrs((x[i, j] == 1) >> (u[i]+week2[j] == u[j])\n",
    "               for i, j in arcos if i != 0 and j != 0);\n",
    "md2.addConstrs(u[i] >= week2[i] for i in puntos_verdes);\n",
    "md2.addConstrs(u[i] <= Q1 for i in puntos_verdes);"
   ]
  },
  {
   "cell_type": "code",
   "execution_count": 33,
   "metadata": {},
   "outputs": [
    {
     "name": "stdout",
     "output_type": "stream",
     "text": [
      "Gurobi Optimizer version 9.1.2 build v9.1.2rc0 (win64)\n",
      "Thread count: 4 physical cores, 8 logical processors, using up to 8 threads\n",
      "Optimize a model with 40 rows, 120 columns and 220 nonzeros\n",
      "Model fingerprint: 0x11ef33ca\n",
      "Model has 90 general constraints\n",
      "Variable types: 10 continuous, 110 integer (110 binary)\n",
      "Coefficient statistics:\n",
      "  Matrix range     [1e+00, 1e+00]\n",
      "  Objective range  [1e+01, 4e+02]\n",
      "  Bounds range     [1e+00, 1e+00]\n",
      "  RHS range        [1e+00, 1e+01]\n",
      "Presolve added 50 rows and 0 columns\n",
      "Presolve removed 0 rows and 59 columns\n",
      "Presolve time: 0.00s\n",
      "Presolved: 90 rows, 61 columns, 570 nonzeros\n",
      "Variable types: 15 continuous, 46 integer (46 binary)\n",
      "Found heuristic solution: objective 2790.0000000\n",
      "\n",
      "Root relaxation: objective 1.823978e+03, 62 iterations, 0.00 seconds\n",
      "\n",
      "    Nodes    |    Current Node    |     Objective Bounds      |     Work\n",
      " Expl Unexpl |  Obj  Depth IntInf | Incumbent    BestBd   Gap | It/Node Time\n",
      "\n",
      "     0     0 1823.97800    0   21 2790.00000 1823.97800  34.6%     -    0s\n",
      "H    0     0                    2390.0000000 1823.97800  23.7%     -    0s\n",
      "H    0     0                    2377.0000000 1834.40679  22.8%     -    0s\n",
      "     0     0 1837.52366    0   16 2377.00000 1837.52366  22.7%     -    0s\n",
      "     0     0 1901.77484    0   22 2377.00000 1901.77484  20.0%     -    0s\n",
      "     0     0 1908.81818    0   21 2377.00000 1908.81818  19.7%     -    0s\n",
      "     0     0 1914.00000    0   20 2377.00000 1914.00000  19.5%     -    0s\n",
      "     0     0 1914.00000    0   20 2377.00000 1914.00000  19.5%     -    0s\n",
      "     0     0 1943.54545    0   21 2377.00000 1943.54545  18.2%     -    0s\n",
      "     0     0 1970.57103    0   22 2377.00000 1970.57103  17.1%     -    0s\n",
      "     0     0 1970.57103    0   22 2377.00000 1970.57103  17.1%     -    0s\n",
      "     0     2 1970.57103    0   21 2377.00000 1970.57103  17.1%     -    0s\n",
      "\n",
      "Cutting planes:\n",
      "  Gomory: 3\n",
      "  Cover: 2\n",
      "  Implied bound: 4\n",
      "  Clique: 6\n",
      "  MIR: 13\n",
      "  StrongCG: 1\n",
      "  GUB cover: 5\n",
      "  Relax-and-lift: 2\n",
      "\n",
      "Explored 576 nodes (4948 simplex iterations) in 0.17 seconds\n",
      "Thread count was 8 (of 8 available processors)\n",
      "\n",
      "Solution count 3: 2377 2390 2790 \n",
      "\n",
      "Optimal solution found (tolerance 1.00e-04)\n",
      "Best objective 2.377000000000e+03, best bound 2.377000000000e+03, gap 0.0000%\n"
     ]
    }
   ],
   "source": [
    "md2.optimize()"
   ]
  },
  {
   "cell_type": "code",
   "execution_count": 34,
   "metadata": {},
   "outputs": [
    {
     "data": {
      "text/plain": [
       "2377.0"
      ]
     },
     "execution_count": 34,
     "metadata": {},
     "output_type": "execute_result"
    }
   ],
   "source": [
    "#Coste de transporte de la semana 2\n",
    "md2.ObjVal"
   ]
  },
  {
   "cell_type": "code",
   "execution_count": 35,
   "metadata": {},
   "outputs": [],
   "source": [
    "arcos_activos2 = [a for a in arcos if x[a].x > 0.99]"
   ]
  },
  {
   "cell_type": "code",
   "execution_count": 36,
   "metadata": {},
   "outputs": [],
   "source": [
    "#Calculamos el numero de rutas/camiones necesarios\n",
    "n_rutas=0\n",
    "for t in arcos_activos2:\n",
    "    if t[0]==0:\n",
    "        n_rutas+=1"
   ]
  },
  {
   "cell_type": "code",
   "execution_count": 37,
   "metadata": {},
   "outputs": [
    {
     "data": {
      "text/plain": [
       "<function matplotlib.pyplot.show(close=None, block=None)>"
      ]
     },
     "execution_count": 37,
     "metadata": {},
     "output_type": "execute_result"
    },
    {
     "data": {
      "image/png": "[encoded data removed]",
      "text/plain": [
       "<Figure size 432x288 with 1 Axes>"
      ]
     },
     "metadata": {},
     "output_type": "display_data"
    }
   ],
   "source": [
    "#Representación de la solución\n",
    "plt.figure(figsize=(6,4))\n",
    "plt.scatter(loc_x[1:],loc_y[1:],color=\"green\")\n",
    "plt.xticks([])\n",
    "plt.yticks([])\n",
    "plt.title(\"Semana 2:  Camiones=%d  Coste=%d\" %(n_rutas,md2.ObjVal))\n",
    "for i in puntos_verdes:\n",
    "    plt.annotate('$N_{%d}=%d$' % (i,week2[i]),(loc_x[i]+0.5,loc_y[i]))\n",
    "for i,j in arcos_activos2:\n",
    "    plt.plot([loc_x[i],loc_x[j]],[loc_y[i],loc_y[j]],color=\"gold\",alpha=0.7)\n",
    "#Expongo el deposito comun\n",
    "plt.plot(loc_x[0], loc_y[0], c='r', marker='s')\n",
    "plt.annotate('DC',(loc_x[0]-2,loc_y[0]+2))\n",
    "plt.show"
   ]
  },
  {
   "cell_type": "markdown",
   "metadata": {},
   "source": [
    "### 5.3. Week 3"
   ]
  },
  {
   "cell_type": "code",
   "execution_count": 38,
   "metadata": {},
   "outputs": [
    {
     "data": {
      "text/plain": [
       "{1: 8, 2: 9, 3: 10, 4: 7, 5: 4, 6: 6, 7: 2, 8: 6, 9: 3, 10: 7}"
      ]
     },
     "execution_count": 38,
     "metadata": {},
     "output_type": "execute_result"
    }
   ],
   "source": [
    "week3"
   ]
  },
  {
   "cell_type": "code",
   "execution_count": 39,
   "metadata": {},
   "outputs": [],
   "source": [
    "md3 = Model('VRP')"
   ]
  },
  {
   "cell_type": "code",
   "execution_count": 40,
   "metadata": {},
   "outputs": [],
   "source": [
    "x = md3.addVars(arcos, vtype=GRB.BINARY)\n",
    "u = md3.addVars(puntos_verdes, vtype=GRB.CONTINUOUS)"
   ]
  },
  {
   "cell_type": "code",
   "execution_count": 41,
   "metadata": {},
   "outputs": [],
   "source": [
    "md3.modelSense = GRB.MINIMIZE\n",
    "md3.setObjective(quicksum(300*x[0,j] for j in puntos_verdes)+\n",
    "                 quicksum(x[i, j]*coste[i, j] for i, j in arcos))"
   ]
  },
  {
   "cell_type": "code",
   "execution_count": 42,
   "metadata": {},
   "outputs": [],
   "source": [
    "md3.addConstrs(quicksum(x[i, j] for j in vertices if j != i) == 1 for i in puntos_verdes);\n",
    "md3.addConstrs(quicksum(x[i, j] for i in vertices if i != j) == 1 for j in puntos_verdes);\n",
    "md3.addConstrs((x[i, j] == 1) >> (u[i]+week3[j] == u[j])\n",
    "               for i, j in arcos if i != 0 and j != 0);\n",
    "md3.addConstrs(u[i] >= week3[i] for i in puntos_verdes);\n",
    "md3.addConstrs(u[i] <= Q1 for i in puntos_verdes);"
   ]
  },
  {
   "cell_type": "code",
   "execution_count": 43,
   "metadata": {},
   "outputs": [
    {
     "name": "stdout",
     "output_type": "stream",
     "text": [
      "Gurobi Optimizer version 9.1.2 build v9.1.2rc0 (win64)\n",
      "Thread count: 4 physical cores, 8 logical processors, using up to 8 threads\n",
      "Optimize a model with 40 rows, 120 columns and 220 nonzeros\n",
      "Model fingerprint: 0x496035c9\n",
      "Model has 90 general constraints\n",
      "Variable types: 10 continuous, 110 integer (110 binary)\n",
      "Coefficient statistics:\n",
      "  Matrix range     [1e+00, 1e+00]\n",
      "  Objective range  [1e+01, 4e+02]\n",
      "  Bounds range     [1e+00, 1e+00]\n",
      "  RHS range        [1e+00, 1e+01]\n",
      "Presolve added 9 rows and 0 columns\n",
      "Presolve removed 0 rows and 82 columns\n",
      "Presolve time: 0.01s\n",
      "Presolved: 49 rows, 38 columns, 318 nonzeros\n",
      "Variable types: 10 continuous, 28 integer (28 binary)\n",
      "\n",
      "Root relaxation: objective 2.779000e+03, 17 iterations, 0.00 seconds\n",
      "\n",
      "    Nodes    |    Current Node    |     Objective Bounds      |     Work\n",
      " Expl Unexpl |  Obj  Depth IntInf | Incumbent    BestBd   Gap | It/Node Time\n",
      "\n",
      "*    0     0               0    2779.0000000 2779.00000  0.00%     -    0s\n",
      "\n",
      "Explored 0 nodes (17 simplex iterations) in 0.02 seconds\n",
      "Thread count was 8 (of 8 available processors)\n",
      "\n",
      "Solution count 1: 2779 \n",
      "\n",
      "Optimal solution found (tolerance 1.00e-04)\n",
      "Best objective 2.779000000000e+03, best bound 2.779000000000e+03, gap 0.0000%\n"
     ]
    }
   ],
   "source": [
    "md3.optimize()"
   ]
  },
  {
   "cell_type": "code",
   "execution_count": 44,
   "metadata": {},
   "outputs": [
    {
     "data": {
      "text/plain": [
       "2779.0"
      ]
     },
     "execution_count": 44,
     "metadata": {},
     "output_type": "execute_result"
    }
   ],
   "source": [
    "#Coste de transporte de la semana 3\n",
    "md3.ObjVal"
   ]
  },
  {
   "cell_type": "code",
   "execution_count": 45,
   "metadata": {},
   "outputs": [],
   "source": [
    "arcos_activos3 = [a for a in arcos if x[a].x > 0.99]"
   ]
  },
  {
   "cell_type": "code",
   "execution_count": 46,
   "metadata": {},
   "outputs": [],
   "source": [
    "#Calculamos el número de rutas/camiones necesarios\n",
    "n_rutas=0\n",
    "for t in arcos_activos3:\n",
    "    if t[0]==0:\n",
    "        n_rutas+=1"
   ]
  },
  {
   "cell_type": "code",
   "execution_count": 47,
   "metadata": {},
   "outputs": [
    {
     "data": {
      "text/plain": [
       "<function matplotlib.pyplot.show(close=None, block=None)>"
      ]
     },
     "execution_count": 47,
     "metadata": {},
     "output_type": "execute_result"
    },
    {
     "data": {
      "image/png": "[encoded data removed]",
      "text/plain": [
       "<Figure size 432x288 with 1 Axes>"
      ]
     },
     "metadata": {},
     "output_type": "display_data"
    }
   ],
   "source": [
    "#Representación de la solución\n",
    "plt.figure(figsize=(6,4))\n",
    "plt.scatter(loc_x[1:],loc_y[1:],color=\"green\")\n",
    "plt.xticks([])\n",
    "plt.yticks([])\n",
    "plt.title(\"Semana 3:  Camiones=%d  Coste=%d\" %(n_rutas,md3.ObjVal))\n",
    "for i in puntos_verdes:\n",
    "    plt.annotate('$N_{%d}=%d$' % (i,week3[i]),(loc_x[i]+0.5,loc_y[i]))\n",
    "for i,j in arcos_activos3:\n",
    "    plt.plot([loc_x[i],loc_x[j]],[loc_y[i],loc_y[j]],color=\"Salmon\",alpha=0.7)\n",
    "#Expongo el deposito comun\n",
    "plt.plot(loc_x[0], loc_y[0], c='r', marker='s')\n",
    "plt.annotate('DC',(loc_x[0]-2,loc_y[0]+2))\n",
    "plt.show"
   ]
  },
  {
   "cell_type": "markdown",
   "metadata": {},
   "source": [
    "### 5.4. Week 4"
   ]
  },
  {
   "cell_type": "code",
   "execution_count": 48,
   "metadata": {},
   "outputs": [
    {
     "data": {
      "text/plain": [
       "{1: 7, 2: 4, 3: 3, 4: 3, 5: 5, 6: 3, 7: 4, 8: 1, 9: 5, 10: 5}"
      ]
     },
     "execution_count": 48,
     "metadata": {},
     "output_type": "execute_result"
    }
   ],
   "source": [
    "week4"
   ]
  },
  {
   "cell_type": "code",
   "execution_count": 49,
   "metadata": {},
   "outputs": [],
   "source": [
    "md4 = Model('VRP')"
   ]
  },
  {
   "cell_type": "code",
   "execution_count": 50,
   "metadata": {},
   "outputs": [],
   "source": [
    "x = md4.addVars(arcos, vtype=GRB.BINARY)\n",
    "u = md4.addVars(puntos_verdes, vtype=GRB.CONTINUOUS)"
   ]
  },
  {
   "cell_type": "code",
   "execution_count": 51,
   "metadata": {},
   "outputs": [],
   "source": [
    "md4.modelSense = GRB.MINIMIZE\n",
    "md4.setObjective(quicksum(300*x[0,j] for j in puntos_verdes)+\n",
    "                 quicksum(x[i, j]*coste[i, j] for i, j in arcos))"
   ]
  },
  {
   "cell_type": "code",
   "execution_count": 52,
   "metadata": {},
   "outputs": [],
   "source": [
    "md4.addConstrs(quicksum(x[i, j] for j in vertices if j != i) == 1 for i in puntos_verdes);\n",
    "md4.addConstrs(quicksum(x[i, j] for i in vertices if i != j) == 1 for j in puntos_verdes);\n",
    "md4.addConstrs((x[i, j] == 1) >> (u[i]+week4[j] == u[j])\n",
    "               for i, j in arcos if i != 0 and j != 0);\n",
    "md4.addConstrs(u[i] >= week4[i] for i in puntos_verdes);\n",
    "md4.addConstrs(u[i] <= Q1 for i in puntos_verdes);"
   ]
  },
  {
   "cell_type": "code",
   "execution_count": 53,
   "metadata": {},
   "outputs": [
    {
     "name": "stdout",
     "output_type": "stream",
     "text": [
      "Gurobi Optimizer version 9.1.2 build v9.1.2rc0 (win64)\n",
      "Thread count: 4 physical cores, 8 logical processors, using up to 8 threads\n",
      "Optimize a model with 40 rows, 120 columns and 220 nonzeros\n",
      "Model fingerprint: 0xa0ea8d8c\n",
      "Model has 90 general constraints\n",
      "Variable types: 10 continuous, 110 integer (110 binary)\n",
      "Coefficient statistics:\n",
      "  Matrix range     [1e+00, 1e+00]\n",
      "  Objective range  [1e+01, 4e+02]\n",
      "  Bounds range     [1e+00, 1e+00]\n",
      "  RHS range        [1e+00, 1e+01]\n",
      "Presolve added 133 rows and 0 columns\n",
      "Presolve removed 0 rows and 10 columns\n",
      "Presolve time: 0.01s\n",
      "Presolved: 173 rows, 110 columns, 1104 nonzeros\n",
      "Variable types: 30 continuous, 80 integer (80 binary)\n",
      "\n",
      "Root relaxation: objective 5.264302e+02, 46 iterations, 0.00 seconds\n",
      "\n",
      "    Nodes    |    Current Node    |     Objective Bounds      |     Work\n",
      " Expl Unexpl |  Obj  Depth IntInf | Incumbent    BestBd   Gap | It/Node Time\n",
      "\n",
      "     0     0  526.43021    0   25          -  526.43021      -     -    0s\n",
      "H    0     0                    3515.0000000  526.43021  85.0%     -    0s\n",
      "H    0     0                    3131.0000000  526.43021  83.2%     -    0s\n",
      "H    0     0                    2698.0000000  526.43021  80.5%     -    0s\n",
      "H    0     0                    2029.0000000  526.43021  74.1%     -    0s\n",
      "H    0     0                    2018.0000000  526.43021  73.9%     -    0s\n",
      "     0     0  623.73189    0   33 2018.00000  623.73189  69.1%     -    0s\n",
      "     0     0  656.66341    0   33 2018.00000  656.66341  67.5%     -    0s\n",
      "H    0     0                    2016.0000000  656.66341  67.4%     -    0s\n",
      "     0     0  658.06771    0   33 2016.00000  658.06771  67.4%     -    0s\n",
      "     0     0  658.63733    0   35 2016.00000  658.63733  67.3%     -    0s\n",
      "H    0     0                    1807.0000000  658.63733  63.6%     -    0s\n",
      "     0     0  712.79135    0   35 1807.00000  712.79135  60.6%     -    0s\n",
      "     0     0  726.29772    0   39 1807.00000  726.29772  59.8%     -    0s\n",
      "     0     0  736.24543    0   39 1807.00000  736.24543  59.3%     -    0s\n",
      "     0     0  741.47686    0   37 1807.00000  741.47686  59.0%     -    0s\n",
      "     0     0  743.02302    0   38 1807.00000  743.02302  58.9%     -    0s\n",
      "     0     0  743.08402    0   40 1807.00000  743.08402  58.9%     -    0s\n",
      "     0     0  743.11574    0   41 1807.00000  743.11574  58.9%     -    0s\n",
      "     0     0  927.11230    0   30 1807.00000  927.11230  48.7%     -    0s\n",
      "H    0     0                    1799.0000000  927.11230  48.5%     -    0s\n",
      "     0     0  934.81266    0   29 1799.00000  934.81266  48.0%     -    0s\n",
      "     0     0  934.81266    0   30 1799.00000  934.81266  48.0%     -    0s\n",
      "     0     0  976.39781    0   23 1799.00000  976.39781  45.7%     -    0s\n",
      "     0     0  988.82336    0   32 1799.00000  988.82336  45.0%     -    0s\n",
      "     0     0  991.24879    0   26 1799.00000  991.24879  44.9%     -    0s\n",
      "     0     0  993.47242    0   35 1799.00000  993.47242  44.8%     -    0s\n",
      "     0     0  993.62819    0   39 1799.00000  993.62819  44.8%     -    0s\n",
      "     0     0 1066.00000    0   14 1799.00000 1066.00000  40.7%     -    0s\n",
      "     0     0 1069.56463    0   28 1799.00000 1069.56463  40.5%     -    0s\n",
      "H    0     0                    1779.0000000 1069.56463  39.9%     -    0s\n",
      "     0     0 1069.63889    0   29 1779.00000 1069.63889  39.9%     -    0s\n",
      "     0     0 1073.77778    0   22 1779.00000 1073.77778  39.6%     -    0s\n",
      "     0     0 1073.77778    0   22 1779.00000 1073.77778  39.6%     -    0s\n",
      "     0     0 1080.15091    0   28 1779.00000 1080.15091  39.3%     -    0s\n",
      "     0     0 1080.26961    0   26 1779.00000 1080.26961  39.3%     -    0s\n",
      "     0     0 1081.61485    0   29 1779.00000 1081.61485  39.2%     -    0s\n",
      "     0     0 1081.61485    0   30 1779.00000 1081.61485  39.2%     -    0s\n",
      "     0     0 1081.61485    0   30 1779.00000 1081.61485  39.2%     -    0s\n",
      "     0     0 1081.61485    0   30 1779.00000 1081.61485  39.2%     -    0s\n",
      "     0     2 1083.61485    0   29 1779.00000 1083.61485  39.1%     -    0s\n",
      "\n",
      "Cutting planes:\n",
      "  Learned: 4\n",
      "  Gomory: 1\n",
      "  Cover: 38\n",
      "  Implied bound: 11\n",
      "  Clique: 2\n",
      "  MIR: 24\n",
      "  GUB cover: 12\n",
      "  Relax-and-lift: 25\n",
      "\n",
      "Explored 8399 nodes (94697 simplex iterations) in 1.37 seconds\n",
      "Thread count was 8 (of 8 available processors)\n",
      "\n",
      "Solution count 9: 1779 1799 1807 ... 3515\n",
      "\n",
      "Optimal solution found (tolerance 1.00e-04)\n",
      "Best objective 1.779000000000e+03, best bound 1.779000000000e+03, gap 0.0000%\n"
     ]
    }
   ],
   "source": [
    "md4.optimize()"
   ]
  },
  {
   "cell_type": "code",
   "execution_count": 54,
   "metadata": {},
   "outputs": [
    {
     "data": {
      "text/plain": [
       "1779.0"
      ]
     },
     "execution_count": 54,
     "metadata": {},
     "output_type": "execute_result"
    }
   ],
   "source": [
    "#Coste de transporte de la semana 4\n",
    "md4.ObjVal"
   ]
  },
  {
   "cell_type": "code",
   "execution_count": 55,
   "metadata": {},
   "outputs": [],
   "source": [
    "arcos_activos4 = [a for a in arcos if x[a].x > 0.99]"
   ]
  },
  {
   "cell_type": "code",
   "execution_count": 56,
   "metadata": {},
   "outputs": [],
   "source": [
    "#Calculamos el número de rutas/camiones necesarios\n",
    "n_rutas=0\n",
    "for t in arcos_activos4:\n",
    "    if t[0]==0:\n",
    "        n_rutas+=1"
   ]
  },
  {
   "cell_type": "code",
   "execution_count": 57,
   "metadata": {},
   "outputs": [
    {
     "data": {
      "text/plain": [
       "<function matplotlib.pyplot.show(close=None, block=None)>"
      ]
     },
     "execution_count": 57,
     "metadata": {},
     "output_type": "execute_result"
    },
    {
     "data": {
      "image/png": "[encoded data removed]",
      "text/plain": [
       "<Figure size 432x288 with 1 Axes>"
      ]
     },
     "metadata": {},
     "output_type": "display_data"
    }
   ],
   "source": [
    "#Representación de la solución\n",
    "plt.figure(figsize=(6,4))\n",
    "plt.scatter(loc_x[1:],loc_y[1:],color=\"green\")\n",
    "plt.xticks([])\n",
    "plt.yticks([])\n",
    "plt.title(\"Semana 4:  Camiones=%d  Coste=%d\" %(n_rutas,md4.ObjVal))\n",
    "for i in puntos_verdes:\n",
    "    plt.annotate('$N_{%d}=%d$' % (i,week4[i]),(loc_x[i]+0.5,loc_y[i]))\n",
    "for i,j in arcos_activos4:\n",
    "    plt.plot([loc_x[i],loc_x[j]],[loc_y[i],loc_y[j]],color=\"yellowgreen\",alpha=0.7)\n",
    "#Expongo el deposito comun\n",
    "plt.plot(loc_x[0], loc_y[0], c='r', marker='s')\n",
    "plt.annotate('DC',(loc_x[0]-2,loc_y[0]+2))\n",
    "plt.show"
   ]
  },
  {
   "cell_type": "markdown",
   "metadata": {},
   "source": [
    "## 6. Solución para Q=15\n",
    "Consideremos una flota uniforme de camiones de 15 toneladas. Estos camiones tienen un coste de transporte 20% superior a los camiones de 10 toneladas."
   ]
  },
  {
   "cell_type": "code",
   "execution_count": 100,
   "metadata": {},
   "outputs": [],
   "source": [
    "Q2=15"
   ]
  },
  {
   "cell_type": "code",
   "execution_count": 104,
   "metadata": {},
   "outputs": [],
   "source": [
    "# La distancia entre los nodos determina el coste de transporte. Se ha calculado la distancia euclidean entre todos los vertices.\n",
    "# Ahora el coste de transporte es un 20% más caro.\n",
    "\n",
    "coste2={(i,j):round(np.hypot(loc_x[i]-loc_x[j],loc_y[i]-loc_y[j])*1.2) \n",
    "           for i in vertices for j in vertices if i!=j}"
   ]
  },
  {
   "cell_type": "markdown",
   "metadata": {},
   "source": [
    "### 6.1. Week 1"
   ]
  },
  {
   "cell_type": "code",
   "execution_count": 105,
   "metadata": {},
   "outputs": [
    {
     "data": {
      "text/plain": [
       "{1: 6, 2: 7, 3: 6, 4: 5, 5: 5, 6: 6, 7: 5, 8: 8, 9: 6, 10: 2}"
      ]
     },
     "execution_count": 105,
     "metadata": {},
     "output_type": "execute_result"
    }
   ],
   "source": [
    "week1"
   ]
  },
  {
   "cell_type": "code",
   "execution_count": 106,
   "metadata": {},
   "outputs": [],
   "source": [
    "md5 = Model('VRP')"
   ]
  },
  {
   "cell_type": "code",
   "execution_count": 107,
   "metadata": {},
   "outputs": [],
   "source": [
    "x = md5.addVars(arcos, vtype=GRB.BINARY)\n",
    "u = md5.addVars(puntos_verdes, vtype=GRB.CONTINUOUS)"
   ]
  },
  {
   "cell_type": "code",
   "execution_count": 108,
   "metadata": {},
   "outputs": [],
   "source": [
    "md5.modelSense = GRB.MINIMIZE\n",
    "md5.setObjective(quicksum(500*x[0,j] for j in puntos_verdes)+\n",
    "                 quicksum(x[i, j]*coste2[i, j] for i, j in arcos))"
   ]
  },
  {
   "cell_type": "code",
   "execution_count": 109,
   "metadata": {},
   "outputs": [],
   "source": [
    "md5.addConstrs(quicksum(x[i, j] for j in vertices if j != i) == 1 for i in puntos_verdes);\n",
    "md5.addConstrs(quicksum(x[i, j] for i in vertices if i != j) == 1 for j in puntos_verdes);\n",
    "md5.addConstrs((x[i, j] == 1) >> (u[i]+week1[j] == u[j])\n",
    "               for i, j in arcos if i != 0 and j != 0);\n",
    "md5.addConstrs(u[i] >= week1[i] for i in puntos_verdes);\n",
    "md5.addConstrs(u[i] <= Q2 for i in puntos_verdes);"
   ]
  },
  {
   "cell_type": "code",
   "execution_count": 110,
   "metadata": {},
   "outputs": [
    {
     "name": "stdout",
     "output_type": "stream",
     "text": [
      "Gurobi Optimizer version 9.1.2 build v9.1.2rc0 (win64)\n",
      "Thread count: 4 physical cores, 8 logical processors, using up to 8 threads\n",
      "Optimize a model with 40 rows, 120 columns and 220 nonzeros\n",
      "Model fingerprint: 0x314f0b3a\n",
      "Model has 90 general constraints\n",
      "Variable types: 10 continuous, 110 integer (110 binary)\n",
      "Coefficient statistics:\n",
      "  Matrix range     [1e+00, 1e+00]\n",
      "  Objective range  [1e+01, 6e+02]\n",
      "  Bounds range     [1e+00, 1e+00]\n",
      "  RHS range        [1e+00, 2e+01]\n",
      "Presolve added 162 rows and 5 columns\n",
      "Presolve time: 0.04s\n",
      "Presolved: 202 rows, 125 columns, 1283 nonzeros\n",
      "Variable types: 35 continuous, 90 integer (90 binary)\n",
      "\n",
      "Root relaxation: objective 2.537494e+02, 61 iterations, 0.01 seconds\n",
      "\n",
      "    Nodes    |    Current Node    |     Objective Bounds      |     Work\n",
      " Expl Unexpl |  Obj  Depth IntInf | Incumbent    BestBd   Gap | It/Node Time\n",
      "\n",
      "     0     0  253.74942    0   29          -  253.74942      -     -    0s\n",
      "H    0     0                    5424.0000000  253.74942  95.3%     -    0s\n",
      "H    0     0                    4829.0000000  253.74942  94.7%     -    0s\n",
      "H    0     0                    3628.0000000  253.74942  93.0%     -    0s\n",
      "H    0     0                    3101.0000000  253.74942  91.8%     -    0s\n",
      "     0     0  396.02479    0   32 3101.00000  396.02479  87.2%     -    0s\n",
      "     0     0  400.64730    0   36 3101.00000  400.64730  87.1%     -    0s\n",
      "     0     0  401.03323    0   34 3101.00000  401.03323  87.1%     -    0s\n",
      "     0     0  401.36182    0   36 3101.00000  401.36182  87.1%     -    0s\n",
      "     0     0  401.41589    0   36 3101.00000  401.41589  87.1%     -    0s\n",
      "     0     0  449.40079    0   44 3101.00000  449.40079  85.5%     -    0s\n",
      "     0     0  455.70978    0   42 3101.00000  455.70978  85.3%     -    0s\n",
      "     0     0  468.28794    0   41 3101.00000  468.28794  84.9%     -    0s\n",
      "     0     0  470.39067    0   41 3101.00000  470.39067  84.8%     -    0s\n",
      "     0     0  481.52617    0   39 3101.00000  481.52617  84.5%     -    0s\n",
      "     0     0  490.33412    0   36 3101.00000  490.33412  84.2%     -    0s\n",
      "     0     0  493.28183    0   38 3101.00000  493.28183  84.1%     -    0s\n",
      "     0     0  494.11425    0   38 3101.00000  494.11425  84.1%     -    0s\n",
      "     0     0  500.34702    0   40 3101.00000  500.34702  83.9%     -    0s\n",
      "     0     0  501.74822    0   41 3101.00000  501.74822  83.8%     -    0s\n",
      "     0     0  501.80616    0   44 3101.00000  501.80616  83.8%     -    0s\n",
      "     0     0  813.03061    0   38 3101.00000  813.03061  73.8%     -    0s\n",
      "     0     0  833.61277    0   39 3101.00000  833.61277  73.1%     -    0s\n",
      "     0     0  836.04497    0   39 3101.00000  836.04497  73.0%     -    0s\n",
      "     0     0  836.71284    0   38 3101.00000  836.71284  73.0%     -    0s\n",
      "     0     0 1339.11899    0   26 3101.00000 1339.11899  56.8%     -    0s\n",
      "     0     0 1352.70944    0   29 3101.00000 1352.70944  56.4%     -    0s\n",
      "     0     0 1397.14317    0   28 3101.00000 1397.14317  54.9%     -    0s\n",
      "     0     0 1397.14317    0   28 3101.00000 1397.14317  54.9%     -    0s\n",
      "     0     0 1500.33333    0   24 3101.00000 1500.33333  51.6%     -    0s\n",
      "     0     0 1500.44000    0   24 3101.00000 1500.44000  51.6%     -    0s\n",
      "     0     0 1528.65455    0   33 3101.00000 1528.65455  50.7%     -    0s\n",
      "     0     0 1529.78839    0   35 3101.00000 1529.78839  50.7%     -    0s\n",
      "     0     0 1529.90789    0   37 3101.00000 1529.90789  50.7%     -    0s\n",
      "     0     0 1565.61975    0   35 3101.00000 1565.61975  49.5%     -    0s\n",
      "     0     0 1565.70186    0   35 3101.00000 1565.70186  49.5%     -    0s\n",
      "     0     0 1586.33884    0   27 3101.00000 1586.33884  48.8%     -    0s\n",
      "     0     0 1586.76267    0   27 3101.00000 1586.76267  48.8%     -    0s\n",
      "     0     0 1605.67877    0   35 3101.00000 1605.67877  48.2%     -    0s\n",
      "     0     0 1612.01811    0   34 3101.00000 1612.01811  48.0%     -    0s\n",
      "     0     0 1612.16814    0   34 3101.00000 1612.16814  48.0%     -    0s\n",
      "     0     0 1625.60345    0   25 3101.00000 1625.60345  47.6%     -    0s\n",
      "     0     0 1627.50000    0   16 3101.00000 1627.50000  47.5%     -    0s\n",
      "     0     0 1627.50000    0   16 3101.00000 1627.50000  47.5%     -    0s\n",
      "     0     0 1635.00000    0   12 3101.00000 1635.00000  47.3%     -    0s\n",
      "H    0     0                    2801.0000000 1635.00000  41.6%     -    0s\n",
      "H    0     0                    2692.0000000 1635.00000  39.3%     -    0s\n",
      "     0     0 1635.00000    0   12 2692.00000 1635.00000  39.3%     -    0s\n",
      "     0     0 1635.00000    0   12 2692.00000 1635.00000  39.3%     -    0s\n",
      "H    0     0                    2681.0000000 1635.00000  39.0%     -    0s\n",
      "     0     2 1635.00000    0   12 2681.00000 1635.00000  39.0%     -    0s\n",
      "\n",
      "Cutting planes:\n",
      "  Learned: 2\n",
      "  Gomory: 2\n",
      "  Cover: 10\n",
      "  Implied bound: 9\n",
      "  Projected implied bound: 4\n",
      "  Clique: 2\n",
      "  MIR: 28\n",
      "  StrongCG: 3\n",
      "  Flow cover: 14\n",
      "  GUB cover: 5\n",
      "  Zero half: 4\n",
      "  Relax-and-lift: 16\n",
      "\n",
      "Explored 4441 nodes (48865 simplex iterations) in 1.88 seconds\n",
      "Thread count was 8 (of 8 available processors)\n",
      "\n",
      "Solution count 7: 2681 2692 2801 ... 5424\n",
      "\n",
      "Optimal solution found (tolerance 1.00e-04)\n",
      "Best objective 2.681000000000e+03, best bound 2.681000000000e+03, gap 0.0000%\n"
     ]
    }
   ],
   "source": [
    "md5.optimize()"
   ]
  },
  {
   "cell_type": "code",
   "execution_count": 66,
   "metadata": {},
   "outputs": [
    {
     "data": {
      "text/plain": [
       "2681.0"
      ]
     },
     "execution_count": 66,
     "metadata": {},
     "output_type": "execute_result"
    }
   ],
   "source": [
    "#Coste de transporte de la semana 1\n",
    "md5.ObjVal"
   ]
  },
  {
   "cell_type": "code",
   "execution_count": 67,
   "metadata": {},
   "outputs": [],
   "source": [
    "arcos_activos5 = [a for a in arcos if x[a].x > 0.99]"
   ]
  },
  {
   "cell_type": "code",
   "execution_count": 68,
   "metadata": {},
   "outputs": [],
   "source": [
    "#Calculamos el número de rutas/camiones necesarios\n",
    "n_rutas=0\n",
    "for t in arcos_activos5:\n",
    "    if t[0]==0:\n",
    "        n_rutas+=1"
   ]
  },
  {
   "cell_type": "code",
   "execution_count": 69,
   "metadata": {},
   "outputs": [
    {
     "data": {
      "text/plain": [
       "<function matplotlib.pyplot.show(close=None, block=None)>"
      ]
     },
     "execution_count": 69,
     "metadata": {},
     "output_type": "execute_result"
    },
    {
     "data": {
      "image/png": "[encoded data removed]",
      "text/plain": [
       "<Figure size 432x288 with 1 Axes>"
      ]
     },
     "metadata": {},
     "output_type": "display_data"
    }
   ],
   "source": [
    "#Representación de la solución\n",
    "plt.figure(figsize=(6,4))\n",
    "plt.scatter(loc_x[1:],loc_y[1:],color=\"green\")\n",
    "plt.xticks([])\n",
    "plt.yticks([])\n",
    "plt.title(\"Semana 1:  Camiones=%d  Coste=%d\" %(n_rutas,md5.ObjVal))\n",
    "for i in puntos_verdes:\n",
    "    plt.annotate('$N_{%d}=%d$' % (i,week1[i]),(loc_x[i]+0.5,loc_y[i]))\n",
    "for i,j in arcos_activos5:\n",
    "    plt.plot([loc_x[i],loc_x[j]],[loc_y[i],loc_y[j]],color=\"blue\",alpha=0.7)\n",
    "#Expongo el deposito comun\n",
    "plt.plot(loc_x[0], loc_y[0], c='r', marker='s')\n",
    "plt.annotate('DC',(loc_x[0]-2,loc_y[0]+2))\n",
    "plt.show"
   ]
  },
  {
   "cell_type": "markdown",
   "metadata": {},
   "source": [
    "### 6.2. Week 2"
   ]
  },
  {
   "cell_type": "code",
   "execution_count": 70,
   "metadata": {},
   "outputs": [
    {
     "data": {
      "text/plain": [
       "{1: 5, 2: 7, 3: 5, 4: 5, 5: 8, 6: 2, 7: 3, 8: 2, 9: 10, 10: 6}"
      ]
     },
     "execution_count": 70,
     "metadata": {},
     "output_type": "execute_result"
    }
   ],
   "source": [
    "week2"
   ]
  },
  {
   "cell_type": "code",
   "execution_count": 71,
   "metadata": {},
   "outputs": [],
   "source": [
    "md6 = Model('VRP')"
   ]
  },
  {
   "cell_type": "code",
   "execution_count": 72,
   "metadata": {},
   "outputs": [],
   "source": [
    "x = md6.addVars(arcos, vtype=GRB.BINARY)\n",
    "u = md6.addVars(puntos_verdes, vtype=GRB.CONTINUOUS)"
   ]
  },
  {
   "cell_type": "code",
   "execution_count": 73,
   "metadata": {},
   "outputs": [],
   "source": [
    "md6.modelSense = GRB.MINIMIZE\n",
    "md6.setObjective(quicksum(500*x[0,j] for j in puntos_verdes)+\n",
    "                 quicksum(x[i, j]*coste2[i, j] for i, j in arcos))"
   ]
  },
  {
   "cell_type": "code",
   "execution_count": 74,
   "metadata": {},
   "outputs": [],
   "source": [
    "md6.addConstrs(quicksum(x[i, j] for j in vertices if j != i) == 1 for i in puntos_verdes);\n",
    "md6.addConstrs(quicksum(x[i, j] for i in vertices if i != j) == 1 for j in puntos_verdes);\n",
    "md6.addConstrs((x[i, j] == 1) >> (u[i]+week2[j] == u[j])\n",
    "               for i, j in arcos if i != 0 and j != 0);\n",
    "md6.addConstrs(u[i] >= week2[i] for i in puntos_verdes);\n",
    "md6.addConstrs(u[i] <= Q2 for i in puntos_verdes);"
   ]
  },
  {
   "cell_type": "code",
   "execution_count": 75,
   "metadata": {
    "scrolled": true
   },
   "outputs": [
    {
     "name": "stdout",
     "output_type": "stream",
     "text": [
      "Gurobi Optimizer version 9.1.2 build v9.1.2rc0 (win64)\n",
      "Thread count: 4 physical cores, 8 logical processors, using up to 8 threads\n",
      "Optimize a model with 40 rows, 120 columns and 220 nonzeros\n",
      "Model fingerprint: 0x2ce05770\n",
      "Model has 90 general constraints\n",
      "Variable types: 10 continuous, 110 integer (110 binary)\n",
      "Coefficient statistics:\n",
      "  Matrix range     [1e+00, 1e+00]\n",
      "  Objective range  [1e+01, 6e+02]\n",
      "  Bounds range     [1e+00, 1e+00]\n",
      "  RHS range        [1e+00, 2e+01]\n",
      "Presolve added 154 rows and 0 columns\n",
      "Presolve time: 0.01s\n",
      "Presolved: 194 rows, 120 columns, 1196 nonzeros\n",
      "Variable types: 36 continuous, 84 integer (84 binary)\n",
      "\n",
      "Root relaxation: objective 2.991236e+02, 96 iterations, 0.00 seconds\n",
      "\n",
      "    Nodes    |    Current Node    |     Objective Bounds      |     Work\n",
      " Expl Unexpl |  Obj  Depth IntInf | Incumbent    BestBd   Gap | It/Node Time\n",
      "\n",
      "     0     0  299.12361    0   28          -  299.12361      -     -    0s\n",
      "H    0     0                    5992.0000000  299.12361  95.0%     -    0s\n",
      "H    0     0                    4980.0000000  299.12361  94.0%     -    0s\n",
      "H    0     0                    3145.0000000  299.12361  90.5%     -    0s\n",
      "H    0     0                    2662.0000000  299.12361  88.8%     -    0s\n",
      "     0     0  375.98936    0   33 2662.00000  375.98936  85.9%     -    0s\n",
      "H    0     0                    2622.0000000  375.98936  85.7%     -    0s\n",
      "     0     0  389.01354    0   34 2622.00000  389.01354  85.2%     -    0s\n",
      "     0     0  389.54420    0   34 2622.00000  389.54420  85.1%     -    0s\n",
      "H    0     0                    2600.0000000  389.54420  85.0%     -    0s\n",
      "     0     0  457.21964    0   36 2600.00000  457.21964  82.4%     -    0s\n",
      "     0     0  475.32274    0   43 2600.00000  475.32274  81.7%     -    0s\n",
      "     0     0  477.16764    0   42 2600.00000  477.16764  81.6%     -    0s\n",
      "     0     0  478.18644    0   44 2600.00000  478.18644  81.6%     -    0s\n",
      "     0     0  625.04211    0   35 2600.00000  625.04211  76.0%     -    0s\n",
      "     0     0  627.13362    0   34 2600.00000  627.13362  75.9%     -    0s\n",
      "     0     0  627.13362    0   34 2600.00000  627.13362  75.9%     -    0s\n",
      "     0     0  688.38713    0   40 2600.00000  688.38713  73.5%     -    0s\n",
      "     0     0  698.46429    0   39 2600.00000  698.46429  73.1%     -    0s\n",
      "     0     0  717.76829    0   43 2600.00000  717.76829  72.4%     -    0s\n",
      "     0     0  718.76260    0   44 2600.00000  718.76260  72.4%     -    0s\n",
      "     0     0  718.89793    0   48 2600.00000  718.89793  72.4%     -    0s\n",
      "     0     0  776.40741    0   39 2600.00000  776.40741  70.1%     -    0s\n",
      "     0     0  776.40741    0   39 2600.00000  776.40741  70.1%     -    0s\n",
      "     0     0  800.18727    0   36 2600.00000  800.18727  69.2%     -    0s\n",
      "     0     0  801.93333    0   34 2600.00000  801.93333  69.2%     -    0s\n",
      "     0     0  803.31667    0   42 2600.00000  803.31667  69.1%     -    0s\n",
      "     0     0  803.31667    0   42 2600.00000  803.31667  69.1%     -    0s\n",
      "     0     0  804.83333    0   37 2600.00000  804.83333  69.0%     -    0s\n",
      "     0     0  804.83333    0   37 2600.00000  804.83333  69.0%     -    0s\n",
      "H    0     0                    2598.0000000  804.83333  69.0%     -    0s\n",
      "     0     0  807.57692    0   38 2598.00000  807.57692  68.9%     -    0s\n",
      "     0     0  807.57692    0   41 2598.00000  807.57692  68.9%     -    0s\n",
      "     0     0  807.57692    0   36 2598.00000  807.57692  68.9%     -    0s\n",
      "     0     0  807.67927    0   39 2598.00000  807.67927  68.9%     -    0s\n",
      "     0     0  817.36364    0   38 2598.00000  817.36364  68.5%     -    0s\n",
      "     0     0  823.73091    0   42 2598.00000  823.73091  68.3%     -    0s\n",
      "     0     0  823.81190    0   44 2598.00000  823.81190  68.3%     -    0s\n",
      "     0     0  825.24837    0   48 2598.00000  825.24837  68.2%     -    0s\n",
      "     0     0  825.86999    0   45 2598.00000  825.86999  68.2%     -    0s\n",
      "     0     0  825.86999    0   48 2598.00000  825.86999  68.2%     -    0s\n",
      "     0     0  825.94652    0   48 2598.00000  825.94652  68.2%     -    0s\n",
      "     0     0  825.94652    0   48 2598.00000  825.94652  68.2%     -    0s\n",
      "     0     2  825.94652    0   45 2598.00000  825.94652  68.2%     -    0s\n",
      "\n",
      "Cutting planes:\n",
      "  Learned: 11\n",
      "  Gomory: 5\n",
      "  Cover: 12\n",
      "  Implied bound: 11\n",
      "  Projected implied bound: 7\n",
      "  MIR: 34\n",
      "  StrongCG: 2\n",
      "  Flow cover: 18\n",
      "  GUB cover: 13\n",
      "  Zero half: 13\n",
      "  Relax-and-lift: 11\n",
      "\n",
      "Explored 29035 nodes (364947 simplex iterations) in 4.19 seconds\n",
      "Thread count was 8 (of 8 available processors)\n",
      "\n",
      "Solution count 7: 2598 2600 2622 ... 5992\n",
      "\n",
      "Optimal solution found (tolerance 1.00e-04)\n",
      "Best objective 2.598000000000e+03, best bound 2.598000000000e+03, gap 0.0000%\n"
     ]
    }
   ],
   "source": [
    "md6.optimize()"
   ]
  },
  {
   "cell_type": "code",
   "execution_count": 76,
   "metadata": {},
   "outputs": [
    {
     "data": {
      "text/plain": [
       "2598.0"
      ]
     },
     "execution_count": 76,
     "metadata": {},
     "output_type": "execute_result"
    }
   ],
   "source": [
    "#Coste de transporte de la semana 2\n",
    "md6.ObjVal"
   ]
  },
  {
   "cell_type": "code",
   "execution_count": 77,
   "metadata": {},
   "outputs": [],
   "source": [
    "arcos_activos6 = [a for a in arcos if x[a].x > 0.99]"
   ]
  },
  {
   "cell_type": "code",
   "execution_count": 78,
   "metadata": {},
   "outputs": [],
   "source": [
    "n_rutas=0\n",
    "for t in arcos_activos6:\n",
    "    if t[0]==0:\n",
    "        n_rutas+=1"
   ]
  },
  {
   "cell_type": "code",
   "execution_count": 79,
   "metadata": {},
   "outputs": [
    {
     "data": {
      "text/plain": [
       "<function matplotlib.pyplot.show(close=None, block=None)>"
      ]
     },
     "execution_count": 79,
     "metadata": {},
     "output_type": "execute_result"
    },
    {
     "data": {
      "image/png": "[encoded data removed]",
      "text/plain": [
       "<Figure size 432x288 with 1 Axes>"
      ]
     },
     "metadata": {},
     "output_type": "display_data"
    }
   ],
   "source": [
    "#Representación de la solución\n",
    "plt.figure(figsize=(6,4))\n",
    "plt.scatter(loc_x[1:],loc_y[1:],color=\"green\")\n",
    "plt.xticks([])\n",
    "plt.yticks([])\n",
    "plt.title(\"Semana 2:  Camiones=%d  Coste=%d\" %(n_rutas,md6.ObjVal))\n",
    "for i in puntos_verdes:\n",
    "    plt.annotate('$N_{%d}=%d$' % (i,week2[i]),(loc_x[i]+0.5,loc_y[i]))\n",
    "for i,j in arcos_activos6:\n",
    "    plt.plot([loc_x[i],loc_x[j]],[loc_y[i],loc_y[j]],color=\"gold\",alpha=0.7)\n",
    "#Expongo el deposito comun\n",
    "plt.plot(loc_x[0], loc_y[0], c='r', marker='s')\n",
    "plt.annotate('DC',(loc_x[0]-2,loc_y[0]+2))\n",
    "plt.show"
   ]
  },
  {
   "cell_type": "markdown",
   "metadata": {},
   "source": [
    "### 6.3. Week 3"
   ]
  },
  {
   "cell_type": "code",
   "execution_count": 80,
   "metadata": {},
   "outputs": [
    {
     "data": {
      "text/plain": [
       "{1: 8, 2: 9, 3: 10, 4: 7, 5: 4, 6: 6, 7: 2, 8: 6, 9: 3, 10: 7}"
      ]
     },
     "execution_count": 80,
     "metadata": {},
     "output_type": "execute_result"
    }
   ],
   "source": [
    "week3"
   ]
  },
  {
   "cell_type": "code",
   "execution_count": 81,
   "metadata": {},
   "outputs": [],
   "source": [
    "md7 = Model('VRP')"
   ]
  },
  {
   "cell_type": "code",
   "execution_count": 82,
   "metadata": {},
   "outputs": [],
   "source": [
    "x = md7.addVars(arcos, vtype=GRB.BINARY)\n",
    "u = md7.addVars(puntos_verdes, vtype=GRB.CONTINUOUS)"
   ]
  },
  {
   "cell_type": "code",
   "execution_count": 83,
   "metadata": {},
   "outputs": [],
   "source": [
    "md7.modelSense = GRB.MINIMIZE\n",
    "md7.setObjective(quicksum(500*x[0,j] for j in puntos_verdes)+\n",
    "                 quicksum(x[i, j]*coste2[i, j] for i, j in arcos))"
   ]
  },
  {
   "cell_type": "code",
   "execution_count": 84,
   "metadata": {},
   "outputs": [],
   "source": [
    "md7.addConstrs(quicksum(x[i, j] for j in vertices if j != i) == 1 for i in puntos_verdes);\n",
    "md7.addConstrs(quicksum(x[i, j] for i in vertices if i != j) == 1 for j in puntos_verdes);\n",
    "md7.addConstrs((x[i, j] == 1) >> (u[i]+week3[j] == u[j])\n",
    "               for i, j in arcos if i != 0 and j != 0);\n",
    "md7.addConstrs(u[i] >= week3[i] for i in puntos_verdes);\n",
    "md7.addConstrs(u[i] <= Q2 for i in puntos_verdes);"
   ]
  },
  {
   "cell_type": "code",
   "execution_count": 85,
   "metadata": {},
   "outputs": [
    {
     "name": "stdout",
     "output_type": "stream",
     "text": [
      "Gurobi Optimizer version 9.1.2 build v9.1.2rc0 (win64)\n",
      "Thread count: 4 physical cores, 8 logical processors, using up to 8 threads\n",
      "Optimize a model with 40 rows, 120 columns and 220 nonzeros\n",
      "Model fingerprint: 0xb92f30bc\n",
      "Model has 90 general constraints\n",
      "Variable types: 10 continuous, 110 integer (110 binary)\n",
      "Coefficient statistics:\n",
      "  Matrix range     [1e+00, 1e+00]\n",
      "  Objective range  [1e+01, 6e+02]\n",
      "  Bounds range     [1e+00, 1e+00]\n",
      "  RHS range        [1e+00, 2e+01]\n",
      "Presolve added 114 rows and 0 columns\n",
      "Presolve removed 0 rows and 22 columns\n",
      "Presolve time: 0.01s\n",
      "Presolved: 154 rows, 98 columns, 990 nonzeros\n",
      "Variable types: 26 continuous, 72 integer (72 binary)\n",
      "\n",
      "Root relaxation: objective 1.189525e+03, 103 iterations, 0.00 seconds\n",
      "\n",
      "    Nodes    |    Current Node    |     Objective Bounds      |     Work\n",
      " Expl Unexpl |  Obj  Depth IntInf | Incumbent    BestBd   Gap | It/Node Time\n",
      "\n",
      "     0     0 1189.52526    0   39          - 1189.52526      -     -    0s\n",
      "H    0     0                    4823.0000000 1189.52526  75.3%     -    0s\n",
      "H    0     0                    4230.0000000 1189.52526  71.9%     -    0s\n",
      "H    0     0                    3713.0000000 1189.52526  68.0%     -    0s\n",
      "H    0     0                    3148.0000000 1189.52526  62.2%     -    0s\n",
      "     0     0 1306.08676    0   43 3148.00000 1306.08676  58.5%     -    0s\n",
      "     0     0 1310.34955    0   35 3148.00000 1310.34955  58.4%     -    0s\n",
      "     0     0 1311.59368    0   41 3148.00000 1311.59368  58.3%     -    0s\n",
      "     0     0 1312.35635    0   42 3148.00000 1312.35635  58.3%     -    0s\n",
      "     0     0 1429.01386    0   39 3148.00000 1429.01386  54.6%     -    0s\n",
      "     0     0 1456.82743    0   39 3148.00000 1456.82743  53.7%     -    0s\n",
      "     0     0 1529.58034    0   37 3148.00000 1529.58034  51.4%     -    0s\n",
      "     0     0 1530.98923    0   41 3148.00000 1530.98923  51.4%     -    0s\n",
      "     0     0 1531.22009    0   43 3148.00000 1531.22009  51.4%     -    0s\n",
      "     0     0 1531.26840    0   42 3148.00000 1531.26840  51.4%     -    0s\n",
      "     0     0 1733.89012    0   34 3148.00000 1733.89012  44.9%     -    0s\n",
      "     0     0 1813.76589    0   36 3148.00000 1813.76589  42.4%     -    0s\n",
      "     0     0 1821.30973    0   38 3148.00000 1821.30973  42.1%     -    0s\n",
      "     0     0 1821.76087    0   37 3148.00000 1821.76087  42.1%     -    0s\n",
      "     0     0 1821.78571    0   35 3148.00000 1821.78571  42.1%     -    0s\n",
      "     0     0 1840.21429    0   32 3148.00000 1840.21429  41.5%     -    0s\n",
      "     0     0 1847.86827    0   36 3148.00000 1847.86827  41.3%     -    0s\n",
      "     0     0 1852.12269    0   36 3148.00000 1852.12269  41.2%     -    0s\n",
      "     0     0 1853.00638    0   35 3148.00000 1853.00638  41.1%     -    0s\n",
      "     0     0 1854.67403    0   33 3148.00000 1854.67403  41.1%     -    0s\n",
      "     0     0 1854.99407    0   35 3148.00000 1854.99407  41.1%     -    0s\n",
      "     0     0 1854.99407    0   35 3148.00000 1854.99407  41.1%     -    0s\n",
      "     0     0 1857.56761    0   33 3148.00000 1857.56761  41.0%     -    0s\n",
      "H    0     0                    3134.0000000 1857.56761  40.7%     -    0s\n",
      "     0     0 1858.27108    0   34 3134.00000 1858.27108  40.7%     -    0s\n",
      "     0     0 1858.27108    0   34 3134.00000 1858.27108  40.7%     -    0s\n",
      "     0     0 1865.04762    0   29 3134.00000 1865.04762  40.5%     -    0s\n",
      "     0     0 1865.04762    0   30 3134.00000 1865.04762  40.5%     -    0s\n",
      "     0     0 1865.04762    0   29 3134.00000 1865.04762  40.5%     -    0s\n",
      "     0     0 1865.04762    0   34 3134.00000 1865.04762  40.5%     -    0s\n",
      "     0     0 1865.04762    0   31 3134.00000 1865.04762  40.5%     -    0s\n",
      "     0     0 1865.04762    0   27 3134.00000 1865.04762  40.5%     -    0s\n",
      "     0     2 1865.04762    0   27 3134.00000 1865.04762  40.5%     -    0s\n",
      "H  110    59                    3110.0000000 1883.33333  39.4%  13.0    0s\n",
      "\n",
      "Cutting planes:\n",
      "  Learned: 2\n",
      "  Gomory: 5\n",
      "  Cover: 5\n",
      "  Implied bound: 11\n",
      "  Projected implied bound: 3\n",
      "  Clique: 9\n",
      "  MIR: 16\n",
      "  StrongCG: 2\n",
      "  Flow cover: 3\n",
      "  GUB cover: 10\n",
      "  Zero half: 5\n",
      "\n",
      "Explored 6897 nodes (60888 simplex iterations) in 1.91 seconds\n",
      "Thread count was 8 (of 8 available processors)\n",
      "\n",
      "Solution count 6: 3110 3134 3148 ... 4823\n",
      "\n",
      "Optimal solution found (tolerance 1.00e-04)\n",
      "Best objective 3.110000000000e+03, best bound 3.110000000000e+03, gap 0.0000%\n"
     ]
    }
   ],
   "source": [
    "md7.optimize()"
   ]
  },
  {
   "cell_type": "code",
   "execution_count": 86,
   "metadata": {},
   "outputs": [
    {
     "data": {
      "text/plain": [
       "3110.0"
      ]
     },
     "execution_count": 86,
     "metadata": {},
     "output_type": "execute_result"
    }
   ],
   "source": [
    "#Coste de transporte de la semana 3\n",
    "md7.ObjVal"
   ]
  },
  {
   "cell_type": "code",
   "execution_count": 87,
   "metadata": {},
   "outputs": [],
   "source": [
    "arcos_activos7 = [a for a in arcos if x[a].x > 0.99]"
   ]
  },
  {
   "cell_type": "code",
   "execution_count": 88,
   "metadata": {},
   "outputs": [],
   "source": [
    "n_rutas=0\n",
    "for t in arcos_activos7:\n",
    "    if t[0]==0:\n",
    "        n_rutas+=1"
   ]
  },
  {
   "cell_type": "code",
   "execution_count": 89,
   "metadata": {},
   "outputs": [
    {
     "data": {
      "text/plain": [
       "<function matplotlib.pyplot.show(close=None, block=None)>"
      ]
     },
     "execution_count": 89,
     "metadata": {},
     "output_type": "execute_result"
    },
    {
     "data": {
      "image/png": "[encoded data removed]",
      "text/plain": [
       "<Figure size 432x288 with 1 Axes>"
      ]
     },
     "metadata": {},
     "output_type": "display_data"
    }
   ],
   "source": [
    "#Representación de la solución\n",
    "plt.figure(figsize=(6,4))\n",
    "plt.scatter(loc_x[1:],loc_y[1:],color=\"green\")\n",
    "plt.xticks([])\n",
    "plt.yticks([])\n",
    "plt.title(\"Semana 3:  Camiones=%d  Coste=%d\" %(n_rutas,md7.ObjVal))\n",
    "for i in puntos_verdes:\n",
    "    plt.annotate('$N_{%d}=%d$' % (i,week3[i]),(loc_x[i]+0.5,loc_y[i]))\n",
    "for i,j in arcos_activos7:\n",
    "    plt.plot([loc_x[i],loc_x[j]],[loc_y[i],loc_y[j]],color=\"Salmon\",alpha=0.7)\n",
    "#Expongo el deposito comun\n",
    "plt.plot(loc_x[0], loc_y[0], c='r', marker='s')\n",
    "plt.annotate('DC',(loc_x[0]-2,loc_y[0]+2))\n",
    "plt.show"
   ]
  },
  {
   "cell_type": "markdown",
   "metadata": {},
   "source": [
    "### 6.4. Week 4"
   ]
  },
  {
   "cell_type": "code",
   "execution_count": 90,
   "metadata": {},
   "outputs": [
    {
     "data": {
      "text/plain": [
       "{1: 7, 2: 4, 3: 3, 4: 3, 5: 5, 6: 3, 7: 4, 8: 1, 9: 5, 10: 5}"
      ]
     },
     "execution_count": 90,
     "metadata": {},
     "output_type": "execute_result"
    }
   ],
   "source": [
    "week4"
   ]
  },
  {
   "cell_type": "code",
   "execution_count": 91,
   "metadata": {},
   "outputs": [],
   "source": [
    "md8 = Model('VRP')"
   ]
  },
  {
   "cell_type": "code",
   "execution_count": 92,
   "metadata": {},
   "outputs": [],
   "source": [
    "x = md8.addVars(arcos, vtype=GRB.BINARY)\n",
    "u = md8.addVars(puntos_verdes, vtype=GRB.CONTINUOUS)"
   ]
  },
  {
   "cell_type": "code",
   "execution_count": 93,
   "metadata": {},
   "outputs": [],
   "source": [
    "md8.modelSense = GRB.MINIMIZE\n",
    "md8.setObjective(quicksum(500*x[0,j] for j in puntos_verdes)+\n",
    "                 quicksum(x[i, j]*coste2[i, j] for i, j in arcos))"
   ]
  },
  {
   "cell_type": "code",
   "execution_count": 94,
   "metadata": {},
   "outputs": [],
   "source": [
    "md8.addConstrs(quicksum(x[i, j] for j in vertices if j != i) == 1 for i in puntos_verdes);\n",
    "md8.addConstrs(quicksum(x[i, j] for i in vertices if i != j) == 1 for j in puntos_verdes);\n",
    "md8.addConstrs((x[i, j] == 1) >> (u[i]+week4[j] == u[j])\n",
    "               for i, j in arcos if i != 0 and j != 0);\n",
    "md8.addConstrs(u[i] >= week4[i] for i in puntos_verdes);\n",
    "md8.addConstrs(u[i] <= Q2 for i in puntos_verdes);"
   ]
  },
  {
   "cell_type": "code",
   "execution_count": 95,
   "metadata": {},
   "outputs": [
    {
     "name": "stdout",
     "output_type": "stream",
     "text": [
      "Gurobi Optimizer version 9.1.2 build v9.1.2rc0 (win64)\n",
      "Thread count: 4 physical cores, 8 logical processors, using up to 8 threads\n",
      "Optimize a model with 40 rows, 120 columns and 220 nonzeros\n",
      "Model fingerprint: 0x8ef9f219\n",
      "Model has 90 general constraints\n",
      "Variable types: 10 continuous, 110 integer (110 binary)\n",
      "Coefficient statistics:\n",
      "  Matrix range     [1e+00, 1e+00]\n",
      "  Objective range  [1e+01, 6e+02]\n",
      "  Bounds range     [1e+00, 1e+00]\n",
      "  RHS range        [1e+00, 2e+01]\n",
      "Presolve added 181 rows and 13 columns\n",
      "Presolve time: 0.01s\n",
      "Presolved: 221 rows, 133 columns, 1330 nonzeros\n",
      "Variable types: 43 continuous, 90 integer (90 binary)\n",
      "\n",
      "Root relaxation: objective 2.238586e+02, 62 iterations, 0.00 seconds\n",
      "\n",
      "    Nodes    |    Current Node    |     Objective Bounds      |     Work\n",
      " Expl Unexpl |  Obj  Depth IntInf | Incumbent    BestBd   Gap | It/Node Time\n",
      "\n",
      "     0     0  223.85859    0   22          -  223.85859      -     -    0s\n",
      "H    0     0                    5992.0000000  223.85859  96.3%     -    0s\n",
      "H    0     0                    5487.0000000  223.85859  95.9%     -    0s\n",
      "H    0     0                    3077.0000000  223.85859  92.7%     -    0s\n",
      "H    0     0                    2539.0000000  223.85859  91.2%     -    0s\n",
      "H    0     0                    2512.0000000  244.34583  90.3%     -    0s\n",
      "H    0     0                    2479.0000000  244.34583  90.1%     -    0s\n",
      "     0     0  256.92689    0   25 2479.00000  256.92689  89.6%     -    0s\n",
      "H    0     0                    2470.0000000  256.92689  89.6%     -    0s\n",
      "     0     0  277.53002    0   25 2470.00000  277.53002  88.8%     -    0s\n",
      "     0     0  277.53002    0   22 2470.00000  277.53002  88.8%     -    0s\n",
      "H    0     0                    2032.0000000  277.53002  86.3%     -    0s\n",
      "H    0     0                    1951.0000000  286.45342  85.3%     -    0s\n",
      "     0     0  286.45342    0   26 1951.00000  286.45342  85.3%     -    0s\n",
      "     0     0  292.19277    0   25 1951.00000  292.19277  85.0%     -    0s\n",
      "     0     0  292.19277    0   25 1951.00000  292.19277  85.0%     -    0s\n",
      "     0     0  307.56748    0   25 1951.00000  307.56748  84.2%     -    0s\n",
      "     0     0  307.56748    0   25 1951.00000  307.56748  84.2%     -    0s\n",
      "     0     2  307.56748    0   24 1951.00000  307.56748  84.2%     -    0s\n",
      "H   35    34                    1950.0000000  307.56748  84.2%  19.5    0s\n",
      " 30883 16007  627.33528   47   21 1950.00000  545.65943  72.0%  10.7    5s\n",
      " 94575 31977 1122.13088   63   16 1950.00000  623.53523  68.0%  10.3   10s\n",
      " 161433 53395 1353.84913   62   15 1950.00000  799.64941  59.0%   9.8   15s\n",
      " 231585 68353 1049.37469   63   19 1950.00000  965.44459  50.5%   9.5   20s\n",
      " 305753 78932 1683.17241   51    4 1950.00000 1081.08892  44.6%   9.2   25s\n",
      " 378889 83293 1664.53518   54    5 1950.00000 1169.93966  40.0%   9.0   30s\n",
      " 450829 82810     cutoff   51      1950.00000 1256.32464  35.6%   8.8   35s\n",
      " 521552 76597 1571.63492   67    6 1950.00000 1351.86000  30.7%   8.7   40s\n",
      " 588956 64200 1689.26916   53    9 1950.00000 1462.79129  25.0%   8.6   45s\n",
      " 650712 46473     cutoff   79      1950.00000 1577.02003  19.1%   8.5   50s\n",
      " 710437 23048 1899.99173   58    6 1950.00000 1695.00000  13.1%   8.5   55s\n",
      "\n",
      "Cutting planes:\n",
      "  Gomory: 4\n",
      "  Cover: 2\n",
      "  Projected implied bound: 1\n",
      "  MIR: 5\n",
      "  Flow cover: 19\n",
      "  GUB cover: 1\n",
      "  Zero half: 6\n",
      "\n",
      "Explored 749989 nodes (6289850 simplex iterations) in 58.55 seconds\n",
      "Thread count was 8 (of 8 available processors)\n",
      "\n",
      "Solution count 10: 1950 1951 2032 ... 5992\n",
      "\n",
      "Optimal solution found (tolerance 1.00e-04)\n",
      "Best objective 1.950000000000e+03, best bound 1.950000000000e+03, gap 0.0000%\n"
     ]
    }
   ],
   "source": [
    "md8.optimize()"
   ]
  },
  {
   "cell_type": "code",
   "execution_count": 96,
   "metadata": {},
   "outputs": [
    {
     "data": {
      "text/plain": [
       "1950.0"
      ]
     },
     "execution_count": 96,
     "metadata": {},
     "output_type": "execute_result"
    }
   ],
   "source": [
    "#Coste de transporte de la semana 4\n",
    "md8.ObjVal"
   ]
  },
  {
   "cell_type": "code",
   "execution_count": 97,
   "metadata": {},
   "outputs": [],
   "source": [
    "arcos_activos8 = [a for a in arcos if x[a].x > 0.99]"
   ]
  },
  {
   "cell_type": "code",
   "execution_count": 98,
   "metadata": {},
   "outputs": [],
   "source": [
    "n_rutas=0\n",
    "for t in arcos_activos8:\n",
    "    if t[0]==0:\n",
    "        n_rutas+=1"
   ]
  },
  {
   "cell_type": "code",
   "execution_count": 99,
   "metadata": {},
   "outputs": [
    {
     "data": {
      "text/plain": [
       "<function matplotlib.pyplot.show(close=None, block=None)>"
      ]
     },
     "execution_count": 99,
     "metadata": {},
     "output_type": "execute_result"
    },
    {
     "data": {
      "image/png": "[encoded data removed]",
      "text/plain": [
       "<Figure size 432x288 with 1 Axes>"
      ]
     },
     "metadata": {},
     "output_type": "display_data"
    }
   ],
   "source": [
    "#Representación de la solución\n",
    "plt.figure(figsize=(6,4))\n",
    "plt.scatter(loc_x[1:],loc_y[1:],color=\"green\")\n",
    "plt.xticks([])\n",
    "plt.yticks([])\n",
    "plt.title(\"Semana 4:  Camiones=%d  Coste=%d\" %(n_rutas,md8.ObjVal))\n",
    "for i in puntos_verdes:\n",
    "    plt.annotate('$N_{%d}=%d$' % (i,week4[i]),(loc_x[i]+0.5,loc_y[i]))\n",
    "for i,j in arcos_activos8:\n",
    "    plt.plot([loc_x[i],loc_x[j]],[loc_y[i],loc_y[j]],color=\"yellowgreen\",alpha=0.7)\n",
    "#Expongo el deposito comun\n",
    "plt.plot(loc_x[0], loc_y[0], c='r', marker='s')\n",
    "plt.annotate('DC',(loc_x[0]-2,loc_y[0]+2))\n",
    "plt.show"
   ]
  }
 ],
 "metadata": {
  "kernelspec": {
   "display_name": "Python 3",
   "language": "python",
   "name": "python3"
  },
  "language_info": {
   "codemirror_mode": {
    "name": "ipython",
    "version": 3
   },
   "file_extension": ".py",
   "mimetype": "text/x-python",
   "name": "python",
   "nbconvert_exporter": "python",
   "pygments_lexer": "ipython3",
   "version": "3.8.5"
  }
 },
 "nbformat": 4,
 "nbformat_minor": 4
}
